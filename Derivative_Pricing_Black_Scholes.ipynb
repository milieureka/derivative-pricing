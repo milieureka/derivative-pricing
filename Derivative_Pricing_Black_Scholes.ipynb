{
  "cells": [
    {
      "cell_type": "markdown",
      "metadata": {
        "id": "view-in-github",
        "colab_type": "text"
      },
      "source": [
        "<a href=\"https://colab.research.google.com/github/milieureka/derivative-pricing/blob/main/Derivative_Pricing_Black_Scholes.ipynb\" target=\"_parent\"><img src=\"https://colab.research.google.com/assets/colab-badge.svg\" alt=\"Open In Colab\"/></a>"
      ]
    },
    {
      "cell_type": "markdown",
      "metadata": {
        "id": "i2Wwf9hGsRXq"
      },
      "source": [
        "# Load Library"
      ]
    },
    {
      "cell_type": "code",
      "source": [
        "import numpy as np\n",
        "import pandas as pd\n",
        "import numpy.random as npr\n",
        "from scipy.stats import norm"
      ],
      "metadata": {
        "id": "4AlW5GWXbBJx"
      },
      "execution_count": null,
      "outputs": []
    },
    {
      "cell_type": "markdown",
      "metadata": {
        "id": "hJ3oV3BjrogP"
      },
      "source": [
        "# Step 1"
      ]
    },
    {
      "cell_type": "markdown",
      "metadata": {
        "id": "1XhSAUlssIeY"
      },
      "source": [
        "### Black-Scholes closed-form solution to price the different European Options."
      ]
    },
    {
      "cell_type": "code",
      "execution_count": null,
      "metadata": {
        "colab": {
          "base_uri": "https://localhost:8080/"
        },
        "id": "EZhmSPnJ81pr",
        "outputId": "c82518ae-f7e0-422e-e7cd-2d038cd40411"
      },
      "outputs": [
        {
          "output_type": "stream",
          "name": "stdout",
          "text": [
            "European call price at time 0: $4.61\n",
            "European put price at time 0: $3.37\n"
          ]
        }
      ],
      "source": [
        "#Step 1, Q1 - Pricing ATM European Call and Put Options\n",
        "def bs_parameters(St,K,r,sigma,T,t):\n",
        "    \"\"\"Calculate d1 and d2 parameters for option pricing under\n",
        "    the Black-Scholes model\n",
        "    INPUTS: St - Stock price at time t, K - Strike price, r - risk-free rate,\n",
        "    sigma - volatility, T - time to maturity, t - time\n",
        "    OUTPUT: d1_param - d1 parameter, d2_param - d2 parameter\"\"\"\n",
        "    d1_param=(np.log(St/K)+(r+(1/2)*sigma**2)*(T-t))/(sigma*np.sqrt(T-t))\n",
        "    d2_param=d1_param-sigma*np.sqrt(T-t)\n",
        "    return d1_param,d2_param\n",
        "def bs_european_option(St,K,r,sigma,T,t,option_type='call'):\n",
        "    \"\"\"Price European Call and Put options under the Black-Scholes model\n",
        "    INPUTS: St - Stock price at time t, K - Strike price, r - risk-free rate,\n",
        "    sigma - volatility, T - time to maturity, t - time, option_type - 'call' or 'put'\n",
        "    OUTPUT:\n",
        "        option_price - Price of European call or put option under Black-Scholes model\"\"\"\n",
        "    d1,d2=bs_parameters(St,K,r,sigma,T,t)\n",
        "    if option_type.lower()=='call':\n",
        "        option_price=St*norm.cdf(d1)-K*np.exp(-r*(T-t))*norm.cdf(d2)\n",
        "    elif option_type.lower()=='put':\n",
        "        option_price=K*np.exp(-r*(T-t))*norm.cdf(-d2)-St*norm.cdf(-d1)\n",
        "    return option_price\n",
        "#Parameters\n",
        "S0=100 #Initial stock price\n",
        "K=100 #Strike price for ATM option is equal to initial stock price\n",
        "r=0.05 #Risk-free rate of 5%\n",
        "sigma=0.2 #Volaility of 20%\n",
        "T=0.25 #3 months maturity\n",
        "t=0 #Calculate prices and sensitvities at time 0\n",
        "print(f\"European call price at time {t}: ${np.round(bs_european_option(S0,K,r,sigma,T,t,'call'),2)}\")\n",
        "print(f\"European put price at time {t}: ${np.round(bs_european_option(S0,K,r,sigma,T,t,'put'),2)}\")"
      ]
    },
    {
      "cell_type": "code",
      "execution_count": null,
      "metadata": {
        "colab": {
          "base_uri": "https://localhost:8080/"
        },
        "id": "XlJSCjhks16E",
        "outputId": "a0db693a-4d68-48d7-eb10-238e4dfb0ad5"
      },
      "outputs": [
        {
          "output_type": "stream",
          "name": "stdout",
          "text": [
            "Exact European call delta at time 0: 0.5694601832076737\n",
            "Estimated European call delta at time 0: 0.5696566051923924\n",
            "Exact European put delta at time 0: -0.43053981679232634\n",
            "Estimated European put delta at time 0: -0.43034339480882977\n"
          ]
        }
      ],
      "source": [
        "#Step 1, Q1 - Compute Greek Delta for European Call and Put Options at time 0\n",
        "#using exact Black-Scholes formula and finite-difference scheme\n",
        "S_increment=0.0001*S0 #Increment of 0.01% of initial stock price for numerical delta\n",
        "def bs_european_delta(St,K,r,sigma,T,t,option_type='call'):\n",
        "    \"\"\"Calculate Delta (sensitivity to stock price) exactly under the Black-Scholes\n",
        "    model for European Call and Put options\n",
        "    INPUTS: St - Stock price at time t, K - Strike price, r - risk-free rate,\n",
        "    sigma - volatility, T - time to maturity, t - time, option_type - 'call' or 'put'\n",
        "    OUTPUT: delta - Greek Delta calculated using exact formula under Black-Scholes\"\"\"\n",
        "    d1,_=bs_parameters(St,K,r,sigma,T,t)\n",
        "    if option_type.lower()=='call':\n",
        "        delta=norm.cdf(d1)\n",
        "    elif option_type.lower()=='put':\n",
        "        delta=norm.cdf(d1)-1\n",
        "    return delta\n",
        "def bs_european_delta_estimate(St,S_increment,K,r,sigma,T,t,option_type='call'):\n",
        "    \"\"\"Estimate Delta for European call and put options using a first-order forward\n",
        "    finite-difference scheme\n",
        "    INPUTS: St - Stock price at time t, S_increment - Small change in stock price,\n",
        "    K - Strike price, r - risk-free rate, sigma- volatility, T - time to maturity,\n",
        "    t - time, option_type - 'call' or 'put'\n",
        "    OUTPUT: delta_est - Estimated Greek Delta based on first-order foward\n",
        "    finite-difference scheme\"\"\"\n",
        "    delta_est=(bs_european_option(St+S_increment,K,r,sigma,T,t,option_type)-bs_european_option(St,K,r,sigma,T,t,option_type))/S_increment\n",
        "    return delta_est\n",
        "print(f\"Exact European call delta at time {t}: {bs_european_delta(S0,K,r,sigma,T,t,'call')}\")\n",
        "print(f\"Estimated European call delta at time {t}: {bs_european_delta_estimate(S0,S_increment,K,r,sigma,T,t,option_type='call')}\")\n",
        "print(f\"Exact European put delta at time {t}: {bs_european_delta(S0,K,r,sigma,T,t,'put')}\")\n",
        "print(f\"Estimated European put delta at time {t}: {bs_european_delta_estimate(S0,S_increment,K,r,sigma,T,t,option_type='put')}\")"
      ]
    },
    {
      "cell_type": "markdown",
      "metadata": {
        "id": "wEGHoT-bu5ko"
      },
      "source": [
        "I'll exact Black-Scholes formula and finite-difference scheme. Note that Vega is the same for both European Call and Put options"
      ]
    },
    {
      "cell_type": "code",
      "execution_count": null,
      "metadata": {
        "colab": {
          "base_uri": "https://localhost:8080/"
        },
        "id": "oQG_qYZXs-s5",
        "outputId": "259bb499-c6a8-45b9-eecf-48289bc68048"
      },
      "outputs": [
        {
          "output_type": "stream",
          "name": "stdout",
          "text": [
            "Exact Vega at time 0: 19.644000472368965\n",
            "Estimated Vega at time 0: 19.668062236956274\n"
          ]
        }
      ],
      "source": [
        "#Step 1, Q1 - Compute Greek Vega for European Call and Put options\n",
        "sigma_increment=0.05 # 5% increase in volatility for numerical vega\n",
        "def bs_european_vega(St,K,r,sigma,T,t):\n",
        "    \"\"\"Calculate vega (sensitivity to volatility) exactly for European options\n",
        "    under the Black-Scholes model\n",
        "    INPUTS: St - Stock price at time t, K - Strike price, r - risk-free rate,\n",
        "    sigma - volatility, T - time to maturity, t - time\n",
        "    OUTPUT: vega - Greek vega calculated using Black-Scholes model\"\"\"\n",
        "    d1,_=bs_parameters(St,K,r,sigma,T,t)\n",
        "    vega=St*norm.pdf(d1)*np.sqrt(T-t)\n",
        "    return vega\n",
        "def bs_european_vega_estimate(St,K,r,sigma,sigma_increment,T,t):\n",
        "    \"\"\"Estimate vega for European call and put options using a first-order forward\n",
        "    finite-difference scheme\n",
        "    INPUTS: St - Stock price at time t, K - Strike price, r - risk-free rate,\n",
        "    sigma- volatility, sigma_increment - small change in volatility,\n",
        "    T - time to maturity, t - time\n",
        "    OUTPUT: vega_est - Estimated Greek vega based on first-order foward\n",
        "    finite-difference scheme\"\"\"\n",
        "    vega_est=(bs_european_option(St,K,r,sigma+sigma_increment,T,t,option_type='call')-bs_european_option(St,K,r,sigma,T,t,option_type='call'))/sigma_increment\n",
        "    return vega_est\n",
        "print(f\"Exact Vega at time {t}: {bs_european_vega(S0,K,r,sigma,T,t)}\")\n",
        "print(f\"Estimated Vega at time {t}: {bs_european_vega_estimate(S0,K,r,sigma,sigma_increment,T,t)}\")"
      ]
    },
    {
      "cell_type": "markdown",
      "metadata": {
        "id": "yQNv4RWIIXg2"
      },
      "source": [
        "### Q2.Part 1\n",
        "Price an ATM European call and put:\n",
        "a. Choose the number of steps in the tree you see convenient to achieve\n",
        "reliable estimates.\n",
        "b. Briefly describe the overall process, as well as a reason why you choose\n",
        "that number of steps in the tree."
      ]
    },
    {
      "cell_type": "code",
      "execution_count": null,
      "metadata": {
        "id": "emeXZnQFIWn1",
        "colab": {
          "base_uri": "https://localhost:8080/"
        },
        "outputId": "bd04ee7e-d435-4a5f-e2b0-cbb8b4426458"
      },
      "outputs": [
        {
          "output_type": "stream",
          "name": "stdout",
          "text": [
            "European Call Option Price: 4.60\n",
            "European Put Option Price: 3.38\n"
          ]
        }
      ],
      "source": [
        "def bs_option_mc_daily(S0, K, r, sigma, T, num_simulations, num_steps):\n",
        "\n",
        "    # Calculate time step\n",
        "    dt = T / num_steps\n",
        "\n",
        "    # Monte Carlo simulation\n",
        "    np.random.seed(42)  # For reproducibility\n",
        "    stock_paths = np.zeros((num_simulations, num_steps + 1))\n",
        "    stock_paths[:, 0] = S0\n",
        "    np.random.seed(42)\n",
        "    for t in range(1, num_steps + 1):\n",
        "        # Generate random standard normal variables for each path\n",
        "        Z = np.random.standard_normal(num_simulations)\n",
        "        # Apply GBM formula\n",
        "        stock_paths[:, t] = stock_paths[:, t - 1] * np.exp((r - 0.5 * sigma ** 2) * dt + sigma * np.sqrt(dt) * Z)\n",
        "\n",
        "    # Calculate option payoffs at maturity\n",
        "    call_payoffs = np.maximum(stock_paths[:, -1] - K, 0)\n",
        "    put_payoffs = np.maximum(K - stock_paths[:, -1], 0)\n",
        "\n",
        "    # Discount the average payoff back to present value\n",
        "    call_price = np.exp(-r * T) * np.mean(call_payoffs)\n",
        "    put_price = np.exp(-r * T) * np.mean(put_payoffs)\n",
        "\n",
        "    # Display the results\n",
        "    print(f\"European Call Option Price: {call_price:.2f}\")\n",
        "    print(f\"European Put Option Price: {put_price:.2f}\")\n",
        "\n",
        "    return\n",
        "\n",
        "\n",
        "S0 = 100\n",
        "K = 100\n",
        "T = 0.25\n",
        "r = 0.05\n",
        "sigma = 0.2\n",
        "num_simulations = 1000000\n",
        "num_steps = 252\n",
        "bs_option_mc_daily(S0, K, r, sigma, T, num_simulations, num_steps)"
      ]
    },
    {
      "cell_type": "markdown",
      "metadata": {
        "id": "r9GSbBsfIjLg"
      },
      "source": [
        "### Q2. Part 2\n",
        "Compute the Greek Delta for the European call and European put at time 0:\n",
        "a. How do they compare?\n",
        "b. Comment briefly on the differences and signs of Delta for both options.\n",
        "What does delta proxy for? Why does it make sense to obtain a\n",
        "positive/negative delta for each option?\n",
        "\n"
      ]
    },
    {
      "cell_type": "code",
      "execution_count": null,
      "metadata": {
        "colab": {
          "base_uri": "https://localhost:8080/"
        },
        "id": "WQN9Pcm2IihF",
        "outputId": "15e8929c-cb7e-41be-f191-ef4c38943b75"
      },
      "outputs": [
        {
          "output_type": "stream",
          "name": "stdout",
          "text": [
            "European Call Delta: 0.57\n",
            "European Put Delta: -0.43\n"
          ]
        }
      ],
      "source": [
        "import numpy as np\n",
        "S0 = 100\n",
        "K = 100\n",
        "T = 0.25\n",
        "r = 0.05\n",
        "sigma = 0.2\n",
        "num_simulations = 1000000\n",
        "num_steps = 252\n",
        "epsilon = 0.01 * S0  # Small increment in stock price\n",
        "\n",
        "# Calculate time step\n",
        "dt = T / num_steps\n",
        "\n",
        "# Function to simulate option prices\n",
        "def simulate_option_price(S0, K, T, r, sigma, num_simulations, num_steps):\n",
        "    np.random.seed(42)  # For reproducibility\n",
        "    stock_paths = np.zeros((num_simulations, num_steps + 1))\n",
        "    stock_paths[:, 0] = S0\n",
        "\n",
        "    for t in range(1, num_steps + 1):\n",
        "        Z = np.random.standard_normal(num_simulations)\n",
        "        stock_paths[:, t] = stock_paths[:, t - 1] * np.exp((r - 0.5 * sigma ** 2) * dt + sigma * np.sqrt(dt) * Z)\n",
        "\n",
        "    call_payoffs = np.maximum(stock_paths[:, -1] - K, 0)\n",
        "    put_payoffs = np.maximum(K - stock_paths[:, -1], 0)\n",
        "\n",
        "    call_price = np.exp(-r * T) * np.mean(call_payoffs)\n",
        "    put_price = np.exp(-r * T) * np.mean(put_payoffs)\n",
        "\n",
        "    return call_price, put_price\n",
        "\n",
        "\n",
        "call_price_up, put_price_up = simulate_option_price(S0 + epsilon, K, T, r, sigma, num_simulations, num_steps)\n",
        "call_price_down, put_price_down = simulate_option_price(S0 - epsilon, K, T, r, sigma, num_simulations, num_steps)\n",
        "\n",
        "\n",
        "call_delta = (call_price_up - call_price_down) / (2 * epsilon)\n",
        "put_delta = (put_price_up - put_price_down) / (2 * epsilon)\n",
        "\n",
        "# Display the results\n",
        "print(f\"European Call Delta: {call_delta:.2f}\")\n",
        "print(f\"European Put Delta: {put_delta:.2f}\")\n"
      ]
    },
    {
      "cell_type": "markdown",
      "metadata": {
        "id": "buaj0M_8JDFL"
      },
      "source": [
        "###Q3. Part 3\n",
        "Delta measures one sensitivity of the option price. But there are other important\n",
        "sensitivities we will look at throughout the course. An important one is the\n",
        "sensitivity of the option price to the underlying volatility (vega)..\n",
        "a. Compute the sensitivity of previous put and call option prices to a 5%\n",
        "increase in volatility (from 20% to 25%). How do prices change with\n",
        "respect to the change in volatility?\n",
        "b. Comment on the potential differential impact of this change for call and\n",
        "put options."
      ]
    },
    {
      "cell_type": "code",
      "execution_count": null,
      "metadata": {
        "colab": {
          "base_uri": "https://localhost:8080/"
        },
        "id": "TUBVeEi9JEY0",
        "outputId": "78cd7481-6949-4d37-c017-d54e87e9eb91"
      },
      "outputs": [
        {
          "output_type": "stream",
          "name": "stdout",
          "text": [
            "European Call Vega: 3.78\n",
            "European Put Vega: 3.87\n"
          ]
        }
      ],
      "source": [
        "import numpy as np\n",
        "\n",
        "S0 = 100\n",
        "K = 100\n",
        "T = 0.25\n",
        "r = 0.05\n",
        "sigma = 0.2\n",
        "num_simulations = 1000000\n",
        "num_steps = 252\n",
        "epsilon = 0.01 * S0  # Small increment in stock price\n",
        "\n",
        "dt = T / num_steps\n",
        "\n",
        "def simulate_option_price(S0, K, T, r, sigma, num_simulations, num_steps):\n",
        "    np.random.seed(42)  # For reproducibility\n",
        "    stock_paths = np.zeros((num_simulations, num_steps + 1))\n",
        "    stock_paths[:, 0] = S0\n",
        "\n",
        "    for t in range(1, num_steps + 1):\n",
        "        Z = np.random.standard_normal(num_simulations)\n",
        "        stock_paths[:, t] = stock_paths[:, t - 1] * np.exp((r - 0.5 * sigma ** 2) * dt + sigma * np.sqrt(dt) * Z)\n",
        "\n",
        "    call_payoffs = np.maximum(stock_paths[:, -1] - K, 0)\n",
        "    put_payoffs = np.maximum(K - stock_paths[:, -1], 0)\n",
        "\n",
        "    call_price = np.exp(-r * T) * np.mean(call_payoffs)\n",
        "    put_price = np.exp(-r * T) * np.mean(put_payoffs)\n",
        "\n",
        "    return call_price, put_price\n",
        "\n",
        "call_price_up, put_price_up = simulate_option_price(S0, K, T, r, sigma + epsilon, num_simulations, num_steps)\n",
        "call_price_down, put_price_down = simulate_option_price(S0, K, T, r, sigma - epsilon, num_simulations, num_steps)\n",
        "\n",
        "\n",
        "call_vega = (call_price_up - call_price_down) / (2 * epsilon)\n",
        "put_vega = (put_price_up - put_price_down) / (2 * epsilon)\n",
        "\n",
        "\n",
        "print(f\"European Call Vega: {call_vega:.2f}\")\n",
        "print(f\"European Put Vega: {put_vega:.2f}\")\n"
      ]
    },
    {
      "cell_type": "markdown",
      "metadata": {
        "id": "_djj9DEBDKgY"
      },
      "source": [
        "### Q3. Part A Checking that Put-Call parity is satisfied under both methods (BS and MC)."
      ]
    },
    {
      "cell_type": "code",
      "execution_count": null,
      "metadata": {
        "colab": {
          "base_uri": "https://localhost:8080/"
        },
        "id": "6yzPcbEZDSU5",
        "outputId": "d205341f-d9f1-4ac8-b2bc-94743d31c59f"
      },
      "outputs": [
        {
          "output_type": "stream",
          "name": "stdout",
          "text": [
            "Black-Scholes Call Price: 4.6149971296\n",
            "Black-Scholes Put Price: 3.3727771790\n",
            "Monte Carlo Call Price: 4.6026062423\n",
            "Monte Carlo Put Price: 3.3762625288\n",
            "Theoretical Put-Call Parity Value: 1.2422199506\n",
            "Black-Scholes Put-Call Parity Difference: -0.0000000000\n",
            "Monte Carlo Put-Call Parity Difference: -0.0158762371\n"
          ]
        }
      ],
      "source": [
        "import numpy as np\n",
        "from scipy.stats import norm\n",
        "\n",
        "# Black-Scholes model\n",
        "def bs_parameters(St, K, r, sigma, T, t):\n",
        "    d1_param = (np.log(St / K) + (r + 0.5 * sigma ** 2) * (T - t)) / (sigma * np.sqrt(T - t))\n",
        "    d2_param = d1_param - sigma * np.sqrt(T - t)\n",
        "    return d1_param, d2_param\n",
        "\n",
        "def bs_european_option(St, K, r, sigma, T, t, option_type='call'):\n",
        "    d1, d2 = bs_parameters(St, K, r, sigma, T, t)\n",
        "    if option_type.lower() == 'call':\n",
        "        option_price = St * norm.cdf(d1) - K * np.exp(-r * (T - t)) * norm.cdf(d2)\n",
        "    elif option_type.lower() == 'put':\n",
        "        option_price = K * np.exp(-r * (T - t)) * norm.cdf(-d2) - St * norm.cdf(-d1)\n",
        "    return option_price\n",
        "\n",
        "# Monte Carlo GBM model\n",
        "def bs_option_mc_daily(S0, K, r, sigma, T, num_simulations, num_steps):\n",
        "    dt = T / num_steps\n",
        "    np.random.seed(42)\n",
        "    stock_paths = np.zeros((num_simulations, num_steps + 1))\n",
        "    stock_paths[:, 0] = S0\n",
        "\n",
        "    for t in range(1, num_steps + 1):\n",
        "        Z = np.random.standard_normal(num_simulations)\n",
        "        stock_paths[:, t] = stock_paths[:, t - 1] * np.exp((r - 0.5 * sigma ** 2) * dt + sigma * np.sqrt(dt) * Z)\n",
        "\n",
        "    call_payoffs = np.maximum(stock_paths[:, -1] - K, 0)\n",
        "    put_payoffs = np.maximum(K - stock_paths[:, -1], 0)\n",
        "    call_price = np.exp(-r * T) * np.mean(call_payoffs)\n",
        "    put_price = np.exp(-r * T) * np.mean(put_payoffs)\n",
        "\n",
        "    return call_price, put_price\n",
        "\n",
        "# Parameters\n",
        "S0 = 100      # Initial stock price\n",
        "K = 100       # Strike price\n",
        "T = 0.25      # Time to maturity (3 months)\n",
        "r = 0.05      # Risk-free rate\n",
        "sigma = 0.2   # Volatility\n",
        "t = 0         # Current time\n",
        "num_simulations = 1000000  # Increase the number of simulations\n",
        "num_steps = 252\n",
        "\n",
        "# 1. Black-Scholes Analytical Prices\n",
        "bs_call_price = bs_european_option(S0, K, r, sigma, T, t, 'call')\n",
        "bs_put_price = bs_european_option(S0, K, r, sigma, T, t, 'put')\n",
        "\n",
        "# 2. Monte Carlo Simulation Prices\n",
        "mc_call_price, mc_put_price = bs_option_mc_daily(S0, K, r, sigma, T, num_simulations, num_steps)\n",
        "\n",
        "# 3. Put-Call Parity Check\n",
        "# Theoretical parity value\n",
        "parity_value = S0 - K * np.exp(-r * T)\n",
        "\n",
        "# Calculate the differences for each method\n",
        "# Calculate the differences for each method and round to 3 decimal places\n",
        "bs_parity_diff = round(bs_call_price - bs_put_price - parity_value,10)\n",
        "mc_parity_diff = round(mc_call_price - mc_put_price - parity_value,10)\n",
        "\n",
        "# Display results\n",
        "print(f\"Black-Scholes Call Price: {bs_call_price:.10f}\")\n",
        "print(f\"Black-Scholes Put Price: {bs_put_price:.10f}\")\n",
        "print(f\"Monte Carlo Call Price: {mc_call_price:.10f}\")\n",
        "print(f\"Monte Carlo Put Price: {mc_put_price:.10f}\")\n",
        "print(f\"Theoretical Put-Call Parity Value: {parity_value:.10f}\")\n",
        "print(f\"Black-Scholes Put-Call Parity Difference: {bs_parity_diff:.10f}\")\n",
        "print(f\"Monte Carlo Put-Call Parity Difference: {mc_parity_diff:.10f}\")"
      ]
    },
    {
      "cell_type": "code",
      "execution_count": null,
      "metadata": {
        "colab": {
          "base_uri": "https://localhost:8080/"
        },
        "id": "MZ9WlDIxDTSg",
        "outputId": "1c6009d9-cacb-44b4-c909-906015a8c293"
      },
      "outputs": [
        {
          "output_type": "stream",
          "name": "stdout",
          "text": [
            "Black-Scholes satisfies Put-Call Parity.\n",
            "Monte Carlo satisfies Put-Call Parity.\n"
          ]
        }
      ],
      "source": [
        "tolerance = 1e-5  # Tolerance for floating-point comparisons\n",
        "\n",
        "if bs_parity_diff < tolerance:\n",
        "    print(\"Black-Scholes satisfies Put-Call Parity.\")\n",
        "else:\n",
        "    print(\"Black-Scholes does NOT satisfy Put-Call Parity.\")\n",
        "\n",
        "if mc_parity_diff < tolerance:\n",
        "    print(\"Monte Carlo satisfies Put-Call Parity.\")\n",
        "else:\n",
        "    print(\"Monte Carlo does NOT satisfy Put-Call Parity.\")"
      ]
    },
    {
      "cell_type": "markdown",
      "metadata": {
        "id": "QNYg3Vz0DZk9"
      },
      "source": [
        "### Q3. Part B Compare and discuss the prices obtained in both methods: do they converge? why/why not?"
      ]
    },
    {
      "cell_type": "code",
      "execution_count": null,
      "metadata": {
        "colab": {
          "base_uri": "https://localhost:8080/",
          "height": 54
        },
        "id": "P1KheVRuDkFj",
        "outputId": "52020c2f-d9a0-45f7-fbdc-795e20301d53"
      },
      "outputs": [
        {
          "output_type": "display_data",
          "data": {
            "text/plain": [
              "<Figure size 1200x600 with 2 Axes>"
            ],
            "image/png": "[encoded data removed]"
          },
          "metadata": {}
        }
      ],
      "source": [
        "import numpy as np\n",
        "import matplotlib.pyplot as plt\n",
        "from scipy.stats import norm\n",
        "\n",
        "# Black-Scholes model\n",
        "def bs_parameters(St, K, r, sigma, T, t):\n",
        "    d1_param = (np.log(St / K) + (r + 0.5 * sigma ** 2) * (T - t)) / (sigma * np.sqrt(T - t))\n",
        "    d2_param = d1_param - sigma * np.sqrt(T - t)\n",
        "    return d1_param, d2_param\n",
        "\n",
        "def bs_european_option(St, K, r, sigma, T, t, option_type='call'):\n",
        "    d1, d2 = bs_parameters(St, K, r, sigma, T, t)\n",
        "    if option_type.lower() == 'call':\n",
        "        option_price = St * norm.cdf(d1) - K * np.exp(-r * (T - t)) * norm.cdf(d2)\n",
        "    elif option_type.lower() == 'put':\n",
        "        option_price = K * np.exp(-r * (T - t)) * norm.cdf(-d2) - St * norm.cdf(-d1)\n",
        "    return option_price\n",
        "\n",
        "# Monte Carlo GBM model\n",
        "def mc_option_price(S0, K, r, sigma, T, num_simulations, num_steps):\n",
        "    dt = T / num_steps\n",
        "    stock_paths = np.zeros((num_simulations, num_steps + 1))\n",
        "    stock_paths[:, 0] = S0\n",
        "\n",
        "    for t in range(1, num_steps + 1):\n",
        "        Z = np.random.standard_normal(num_simulations)\n",
        "        stock_paths[:, t] = stock_paths[:, t - 1] * np.exp((r - 0.5 * sigma ** 2) * dt + sigma * np.sqrt(dt) * Z)\n",
        "\n",
        "    call_payoffs = np.maximum(stock_paths[:, -1] - K, 0)\n",
        "    put_payoffs = np.maximum(K - stock_paths[:, -1], 0)\n",
        "    call_price = np.exp(-r * T) * np.mean(call_payoffs)\n",
        "    put_price = np.exp(-r * T) * np.mean(put_payoffs)\n",
        "\n",
        "    return call_price, put_price\n",
        "\n",
        "# Parameters\n",
        "S0 = 100      # Initial stock price\n",
        "K = 100       # Strike price\n",
        "T = 0.25      # Time to maturity (3 months)\n",
        "r = 0.05      # Risk-free rate\n",
        "sigma = 0.2   # Volatility\n",
        "t = 0         # Current time\n",
        "num_steps = 252\n",
        "\n",
        "bs_call_price = bs_european_option(S0, K, r, sigma, T, t, 'call')\n",
        "bs_put_price = bs_european_option(S0, K, r, sigma, T, t, 'put')\n",
        "\n",
        "simulation_counts = [100, 500, 1000, 5000,10000,20000,50000,100000,200000,500000,1000000]\n",
        "mc_call_prices = []\n",
        "mc_put_prices = []\n",
        "\n",
        "for num_simulations in simulation_counts:\n",
        "    mc_call_price, mc_put_price = mc_option_price(S0, K, r, sigma, T, num_simulations, num_steps)\n",
        "    mc_call_prices.append(mc_call_price)\n",
        "    mc_put_prices.append(mc_put_price)\n",
        "\n",
        "fig, axes = plt.subplots(1, 2, figsize=(12, 6))\n",
        "\n",
        "axes[0].plot(simulation_counts, mc_call_prices, label='Monte Carlo Call Price', marker='o')\n",
        "axes[0].axhline(y=bs_call_price, color='r', linestyle='--', label='Black-Scholes Call Price')\n",
        "axes[0].set_title('Convergence of Call Price')\n",
        "axes[0].set_xlabel('Number of Simulations')\n",
        "axes[0].set_ylabel('Call Price')\n",
        "axes[0].legend()\n",
        "\n",
        "axes[1].plot(simulation_counts, mc_put_prices, label='Monte Carlo Put Price', marker='o')\n",
        "axes[1].axhline(y=bs_put_price, color='r', linestyle='--', label='Black-Scholes Put Price')\n",
        "axes[1].set_title('Convergence of Put Price')\n",
        "axes[1].set_xlabel('Number of Simulations')\n",
        "axes[1].set_ylabel('Put Price')\n",
        "axes[1].legend()\n",
        "\n",
        "plt.tight_layout()\n",
        "plt.show()\n"
      ]
    },
    {
      "cell_type": "markdown",
      "metadata": {
        "id": "-M1L7WPutKLb"
      },
      "source": [
        "# Step 2"
      ]
    },
    {
      "cell_type": "markdown",
      "metadata": {
        "id": "XBxdyTqctT9T"
      },
      "source": [
        "### Q4.\n",
        "use Monte-Carlo methods with regular GBM process and daily simulations on an American Call option."
      ]
    },
    {
      "cell_type": "code",
      "execution_count": null,
      "metadata": {
        "colab": {
          "base_uri": "https://localhost:8080/"
        },
        "id": "Bn7LdvWMtPOI",
        "outputId": "fbe49c19-d0a6-4f61-aa42-36cd2feeef7f"
      },
      "outputs": [
        {
          "output_type": "stream",
          "name": "stdout",
          "text": [
            "American call price at time 0 is $4.56\n"
          ]
        }
      ],
      "source": [
        "#Step 2, Q4 - Pricing American Call option using Monte Carlo methods with regular GBM process and daily simulations\n",
        "from numpy.polynomial.polynomial import Polynomial\n",
        "def bs_american_call_mc(St,K,r,sigma,T,t,N,M):\n",
        "    \"\"\"Price American Call option using Monte-Carlo (MC) simulation for Geometric\n",
        "    Brownian Motion process (GBM) under the risk-neutral measure\n",
        "    INPUTS: St - Stock price at time t, K - Strike price, r - risk-free rate,\n",
        "    sigma - volatility, T - time to maturity, t - time, N - number of steps in\n",
        "    Monte-Carlo simulation, M - number of paths to simulate\n",
        "    OUPUT: Ct - Price of American call option at time t\"\"\"\n",
        "    dt=(T-t)/N\n",
        "    np.random.seed(0)\n",
        "    Z=np.random.normal(size=(N,M))\n",
        "    discount_factor=np.exp(-r*dt)\n",
        "    St_path=np.zeros((N+1,M))\n",
        "    St_path[0,:]=St\n",
        "    for i in range(1,N+1):\n",
        "        St_path[i:]=St_path[i-1,:]*np.exp((r-0.5*sigma**2)*dt+sigma*np.sqrt(dt)*Z[i-1,:])\n",
        "    Ct_path=np.maximum(St_path-K,0)\n",
        "    cashflows=Ct_path[-1,:].copy()\n",
        "    for j in range(N-1,0,-1):\n",
        "        in_the_money=Ct_path[j,:]>0\n",
        "        St_in_the_money=St_path[j,in_the_money]\n",
        "        future_cashflows=cashflows[in_the_money]*discount_factor\n",
        "        if len(St_in_the_money)>0:\n",
        "            regression=Polynomial.fit(St_in_the_money,future_cashflows,6).convert()\n",
        "            continuation_value=regression(St_in_the_money)\n",
        "            exercise=Ct_path[j,in_the_money]>=continuation_value\n",
        "            cashflows[in_the_money]=np.where(exercise,Ct_path[j,in_the_money],future_cashflows)\n",
        "    call_price=np.mean(cashflows)*np.exp(-r*(T-t))\n",
        "    return call_price\n",
        "N=252 #252 trading days in a year\n",
        "M=100000 # Number of paths to simulate in Monte-Carlo simulation\n",
        "C0=bs_american_call_mc(S0,K,r,sigma,T,t,N,M) #Price of American call option\n",
        "print(\"American call price at time 0 is ${0}\".format(np.round(C0, 2)))"
      ]
    },
    {
      "cell_type": "code",
      "execution_count": null,
      "metadata": {
        "colab": {
          "base_uri": "https://localhost:8080/"
        },
        "id": "Dh4PM4jZtiE3",
        "outputId": "684dc2ca-b68b-46c2-9ce7-8b2a22e6f92c"
      },
      "outputs": [
        {
          "output_type": "stream",
          "name": "stdout",
          "text": [
            "Estinated American call delta at time 0: 0.5807505563181437\n"
          ]
        }
      ],
      "source": [
        "#Step 2, Q4 - Calculate Greek Delta for American Call option using finite-difference scheme\n",
        "def bs_american_call_delta_estimate(St,S_increment,K,r,sigma,T,t,N,M):\n",
        "    \"\"\"Estimate delta for American Call option using forward finite-difference\n",
        "    scheme\n",
        "    INPUTS: St - Stock price at time t, S_increment - Small change in stock price,\n",
        "    K - Strike price, r - risk-free rate, sigma - volatility, T - time to maturity,\n",
        "    t - time, N - number of steps in MC simulation, M - number of paths simulated\n",
        "    in MC\n",
        "    OUTPUT: delta_est - Estimated Greek delta for American call option\"\"\"\n",
        "    Ct_noinc=bs_american_call_mc(St,K,r,sigma,T,t,N,M)\n",
        "    Ct_inc=bs_american_call_mc(St+S_increment,K,r,sigma,T,t,N,M)\n",
        "    delta_est=(Ct_inc-Ct_noinc)/S_increment\n",
        "    return delta_est\n",
        "delta_estimate=bs_american_call_delta_estimate(S0,S_increment,K,r,sigma,T,t,N,M)\n",
        "print(f\"Estinated American call delta at time {t}: {delta_estimate}\")"
      ]
    },
    {
      "cell_type": "code",
      "execution_count": null,
      "metadata": {
        "colab": {
          "base_uri": "https://localhost:8080/"
        },
        "id": "aIIX6mcytuKr",
        "outputId": "f7eb4757-7944-4e13-adf5-d26e87892a03"
      },
      "outputs": [
        {
          "output_type": "stream",
          "name": "stdout",
          "text": [
            "Estinated American call vega at time 0: 19.316102999063016\n"
          ]
        }
      ],
      "source": [
        "#Step 2, Q4 - Calculate Greek vega for American Call option using finite-difference scheme\n",
        "def bs_american_call_vega_estimate(St,K,r,sigma,sigma_increment,T,t,N,M):\n",
        "    \"\"\"Estimate Greek vega for American Call option using forward finite-difference\n",
        "    scheme\n",
        "    INPUTS: St - Stock price at time t, K - Strike price, r - risk-free rate,\n",
        "    sigma - volatility, sigma_increment - small change in volatility,\n",
        "    T - time to maturity, t - time, N - number of steps in MC simulation,\n",
        "    M - number of paths simulated in MC\n",
        "    OUTPUT: vega_est - Estimated Greek vega for American Call option\"\"\"\n",
        "    Ct_noinc=bs_american_call_mc(St,K,r,sigma,T,t,N,M)\n",
        "    Ct_inc=bs_american_call_mc(St,K,r,sigma+sigma_increment,T,t,N,M)\n",
        "    vega_est=(Ct_inc-Ct_noinc)/sigma_increment\n",
        "    return vega_est\n",
        "vega_estimate=bs_american_call_vega_estimate(S0, K, r, sigma, sigma_increment, T,t, N, M)\n",
        "print(f\"Estinated American call vega at time {t}: {vega_estimate}\")"
      ]
    },
    {
      "cell_type": "markdown",
      "metadata": {
        "id": "9Kgn1soXJdOO"
      },
      "source": [
        "### Q5.\n",
        "Price an ATM American call and put:\n",
        "a. Choose the number of steps in the tree you see convenient to achieve\n",
        "reliable estimates.\n",
        "b. Briefly describe the overall process, as well as a reason why you choose\n",
        "that number of steps in the tree.\n",
        "\n",
        "6. Compute the Greek Delta for the American call and put at time 0:\n",
        "a. How do they compare?\n",
        "b. Comment briefly on the differences and signs of Delta for both options.\n",
        "What does delta proxy for? Why does it make sense to obtain a\n",
        "positive/negative delta for each option?\n",
        "\n",
        "7. Delta measures one sensitivity of the option price. But there are other important\n",
        "sensitivities we will look at throughout the course. An important one is the\n",
        "sensitivity of the option price to the underlying volatility (vega)..\n",
        "a. Compute the sensitivity of previous put and call option prices to a 5%\n",
        "increase in volatility (from 20% to 25%). How do prices change with\n",
        "respect to the change in volatility?\n",
        "b. Comment on the potential differential impact of this change for call and\n",
        "put options."
      ]
    },
    {
      "cell_type": "code",
      "execution_count": null,
      "metadata": {
        "id": "F2M-jZ2jLD5f"
      },
      "outputs": [],
      "source": [
        "import numpy as np\n",
        "class AmericanOptions(object):\n",
        "    def __init__(self, option_type, S0, strike, T, M, r, div, sigma, simulations):\n",
        "        self.option_type = option_type\n",
        "        self.S0 = float(S0)\n",
        "        self.strike = float(strike)\n",
        "        self.T = float(T)\n",
        "        self.M = int(M)\n",
        "        self.r = float(r)\n",
        "        self.div = float(div)\n",
        "        self.sigma = float(sigma)\n",
        "        self.simulations = int(simulations)\n",
        "        self.time_unit = self.T / float(self.M)\n",
        "        self.discount = np.exp(-self.r * self.time_unit)\n",
        "\n",
        "    @property\n",
        "    def MCprice_matrix(self, seed = 42):\n",
        "      \"\"\" Returns MC price matrix rows: time columns: price-path simulation \"\"\"\n",
        "      np.random.seed(seed)\n",
        "      MCprice_matrix = np.zeros((self.M + 1, self.simulations), dtype=np.float64)\n",
        "      MCprice_matrix[0,:] = self.S0\n",
        "      for t in range(1, self.M + 1):\n",
        "          brownian = np.random.standard_normal(int(self.simulations // 2))\n",
        "          brownian = np.concatenate((brownian, -brownian))\n",
        "          MCprice_matrix[t, :] = (MCprice_matrix[t - 1, :]\n",
        "                                * np.exp((self.r - self.sigma ** 2 / 2.) * self.time_unit\n",
        "                                + self.sigma * brownian * np.sqrt(self.time_unit)))\n",
        "      return MCprice_matrix\n",
        "\n",
        "    @property\n",
        "    def MCpayoff(self):\n",
        "      \"\"\"Returns the inner-value of American Option\"\"\"\n",
        "      if self.option_type == 'call':\n",
        "          payoff = np.maximum(self.MCprice_matrix - self.strike,\n",
        "                        np.zeros((self.M + 1, self.simulations),dtype=np.float64))\n",
        "      else:\n",
        "          payoff = np.maximum(self.strike - self.MCprice_matrix,\n",
        "                          np.zeros((self.M + 1, self.simulations),\n",
        "                          dtype=np.float64))\n",
        "      return payoff\n",
        "\n",
        "    @property\n",
        "    def value_vector(self):\n",
        "        value_matrix = np.zeros_like(self.MCpayoff)\n",
        "        value_matrix[-1, :] = self.MCpayoff[-1, :]\n",
        "        for t in range(self.M - 1, 0 , -1):\n",
        "            regression = np.polyfit(self.MCprice_matrix[t, :], value_matrix[t + 1, :] * self.discount, 5)\n",
        "            continuation_value = np.polyval(regression, self.MCprice_matrix[t, :])\n",
        "            value_matrix[t, :] = np.where(self.MCpayoff[t, :] > continuation_value,\n",
        "                                          self.MCpayoff[t, :],\n",
        "                                          value_matrix[t + 1, :] * self.discount)\n",
        "\n",
        "        return value_matrix[1,:] * self.discount\n",
        "\n",
        "\n",
        "    @property\n",
        "    def price(self): return np.sum(self.value_vector) / float(self.simulations)\n",
        "\n",
        "    @property\n",
        "    def delta(self):\n",
        "        diff = self.S0 * 0.01\n",
        "        myCall_1 = AmericanOptions(self.option_type, self.S0 + diff,\n",
        "                                      self.strike, self.T, self.M,\n",
        "                                      self.r, self.div, self.sigma, self.simulations)\n",
        "        myCall_2 = AmericanOptions(self.option_type, self.S0 - diff,\n",
        "                                      self.strike, self.T, self.M,\n",
        "                                      self.r, self.div, self.sigma, self.simulations)\n",
        "        return (myCall_1.price - myCall_2.price) / float(2. * diff)\n",
        "\n",
        "    @property\n",
        "    def vega(self):\n",
        "        diff = self.sigma * 0.01\n",
        "        myCall_1 = AmericanOptions(self.option_type, self.S0,\n",
        "                                      self.strike, self.T, self.M,\n",
        "                                      self.r, self.div, self.sigma + diff,\n",
        "                                      self.simulations)\n",
        "        myCall_2 = AmericanOptions(self.option_type, self.S0,\n",
        "                                      self.strike, self.T, self.M,\n",
        "                                      self.r, self.div, self.sigma - diff,\n",
        "                                      self.simulations)\n",
        "        return (myCall_1.price - myCall_2.price) / float(2. * diff)"
      ]
    },
    {
      "cell_type": "code",
      "execution_count": null,
      "metadata": {
        "colab": {
          "base_uri": "https://localhost:8080/"
        },
        "id": "rgCEoQ2UJ0rd",
        "outputId": "a29d6853-54a6-4299-b4fc-9e3e49ae3d08"
      },
      "outputs": [
        {
          "output_type": "stream",
          "name": "stdout",
          "text": [
            "American put price: 3.43\n",
            "American put delta: -0.45\n",
            "American put vega: 20.55\n"
          ]
        }
      ],
      "source": [
        "S0 = 100\n",
        "K = 100\n",
        "T = 0.25\n",
        "r = 0.05\n",
        "sigma = 0.2\n",
        "num_simulations = 10000\n",
        "num_steps = 252\n",
        "\n",
        "AmericanPUToption = AmericanOptions('put', S0, K, T, num_steps, r, 0, sigma, num_simulations)\n",
        "print (f\"American put price: {AmericanPUToption.price:.2f}\")\n",
        "print (f\"American put delta: {AmericanPUToption.delta:.2f}\")\n",
        "print (f\"American put vega: {AmericanPUToption.vega:.2f}\")"
      ]
    },
    {
      "cell_type": "markdown",
      "metadata": {
        "id": "KdaFflS6gi-j"
      },
      "source": []
    },
    {
      "cell_type": "markdown",
      "metadata": {
        "id": "UCwZTSTZgnFa"
      },
      "source": [
        "### Q6"
      ]
    },
    {
      "cell_type": "code",
      "execution_count": null,
      "metadata": {
        "id": "A5hR2M5kjlWa"
      },
      "outputs": [],
      "source": [
        "import matplotlib.pyplot as plt\n",
        "import numpy as np\n",
        "\n",
        "# Function to calculate option prices for different moneyness levels\n",
        "def calculate_option_prices(S0, T, r, sigma, num_simulations, num_steps):\n",
        "    moneyness_levels = [0.9, 0.95, 1.0, 1.05, 1.1]  # 90%, 95%, ATM, 105%, 110%\n",
        "    call_prices = []\n",
        "    put_prices = []\n",
        "\n",
        "    for m in moneyness_levels:\n",
        "        K = S0 * m\n",
        "\n",
        "        AmericanCALLoption = AmericanOptions('call', S0, K, T, num_steps, r, 0, sigma, num_simulations)\n",
        "        call_prices.append(AmericanCALLoption.price)\n",
        "\n",
        "        AmericanPUToption = AmericanOptions('put', S0, K, T, num_steps, r, 0, sigma, num_simulations)\n",
        "        put_prices.append(AmericanPUToption.price)\n",
        "\n",
        "    return moneyness_levels, call_prices, put_prices\n",
        "\n",
        "def plot_option_prices(moneyness_levels, call_prices, put_prices):\n",
        "    plt.figure(figsize=(12, 6))\n",
        "\n",
        "    plt.subplot(1, 2, 1)\n",
        "    plt.plot(moneyness_levels, call_prices, marker='o', color='blue', label=\"Call Option Price\")\n",
        "    plt.xlabel(\"Moneyness (K / S0)\")\n",
        "    plt.ylabel(\"Option Price\")\n",
        "    plt.title(\"American Call Option Price vs Moneyness\")\n",
        "    plt.grid(True)\n",
        "    plt.legend()\n",
        "\n",
        "    plt.subplot(1, 2, 2)\n",
        "    plt.plot(moneyness_levels, put_prices, marker='o', color='red', label=\"Put Option Price\")\n",
        "    plt.xlabel(\"Moneyness (K / S0)\")\n",
        "    plt.ylabel(\"Option Price\")\n",
        "    plt.title(\"American Put Option Price vs Moneyness\")\n",
        "    plt.grid(True)\n",
        "    plt.legend()\n",
        "\n",
        "    plt.tight_layout()\n",
        "    plt.show()\n",
        "\n",
        "# Parameters\n",
        "S0 = 100\n",
        "T = 0.25\n",
        "r = 0.05\n",
        "sigma = 0.2\n",
        "num_simulations = 10000\n",
        "num_steps = 252\n",
        "\n",
        "moneyness_levels, call_prices, put_prices = calculate_option_prices(S0, T, r, sigma, num_simulations, num_steps)\n",
        "plot_option_prices(moneyness_levels, call_prices, put_prices)\n"
      ]
    },
    {
      "cell_type": "code",
      "execution_count": null,
      "metadata": {
        "id": "6KD-13j0oi8c"
      },
      "outputs": [],
      "source": [
        "import pandas as pd\n",
        "df = pd.DataFrame({\n",
        "    'Moneyness': [f\"{int(m * 100)}%\" for m in moneyness_levels],\n",
        "    'Call Price': call_prices,\n",
        "    'Put Price': put_prices\n",
        "})\n",
        "\n",
        "# Display the DataFrame\n",
        "print(df)"
      ]
    },
    {
      "cell_type": "markdown",
      "metadata": {
        "id": "9yuPdxK1t1bm"
      },
      "source": [
        "# Step 3"
      ]
    },
    {
      "cell_type": "markdown",
      "metadata": {
        "id": "J56ZkHfFt4oJ"
      },
      "source": [
        "### Q7.\n",
        "European options with same characteristics under different levels of moneyness"
      ]
    },
    {
      "cell_type": "code",
      "execution_count": null,
      "metadata": {
        "colab": {
          "base_uri": "https://localhost:8080/"
        },
        "id": "suKBr4iAKaAG",
        "outputId": "f2c58ca6-730c-4ee5-c84f-aefe047a61fa"
      },
      "outputs": [
        {
          "output_type": "stream",
          "name": "stdout",
          "text": [
            "European call price with 110% moneyness at time 0: $1.19\n",
            "European put price with 95% moneyness at time 0: $1.53\n"
          ]
        }
      ],
      "source": [
        "#Step 3, Q7a) - Pricing European call option with 110% moneyness and European put option with 95% moneyness\n",
        "K_110=1.1*S0 #110% moneyness for European call option\n",
        "K_95=0.95*S0 #95% moneyness for European put option\n",
        "#Use previous bs_european_option to calculate Call and Put prices\n",
        "print(f\"European call price with 110% moneyness at time {t}: ${np.round(bs_european_option(S0,K_110,r,sigma,T,t,option_type='call'),2)}\")\n",
        "print(f\"European put price with 95% moneyness at time {t}: ${np.round(bs_european_option(S0,K_95,r,sigma,T,t,option_type='put'),2)}\")"
      ]
    },
    {
      "cell_type": "markdown",
      "metadata": {
        "id": "Idj6nCq_uM6S"
      },
      "source": [
        "For part b) since Delta is linear, the Delta of a portfolio is simply the sum of the deltas of the call and put options in part b) and the difference in part c)\n",
        "\n",
        "As the delta of the portfolio in b) is negative, this portfolio beenfits slightly from a decline in the underlying stock price. Hence, to delta-hedge this portfolio, we would need to buy approximately 0.0275 shares of the underlying stock per portfolio unit."
      ]
    },
    {
      "cell_type": "code",
      "execution_count": null,
      "metadata": {
        "colab": {
          "base_uri": "https://localhost:8080/"
        },
        "id": "FXiT-z_NuHFR",
        "outputId": "628ed224-7390-4ed6-d374-c13252ddf167"
      },
      "outputs": [
        {
          "output_type": "stream",
          "name": "stdout",
          "text": [
            "Delta for porftolio, at time 0, where both call and put are bought: -0.027493003408300243\n"
          ]
        }
      ],
      "source": [
        "#Step 3, Q7b) - Delta of portfolio where previous Call and Put options are both bought\n",
        "delta_portfolio_b=bs_european_delta(S0,K_110,r,sigma,T,t,option_type='call')+bs_european_delta(S0,K_95,r,sigma,T,t,option_type='put')\n",
        "print(f\"Delta for porftolio, at time {t}, where both call and put are bought: {delta_portfolio_b}\")"
      ]
    },
    {
      "cell_type": "markdown",
      "metadata": {
        "id": "IRdxhBn2unGl"
      },
      "source": [
        "As the delta of the portfolio in c) is positive, this portfolio benefits from an increase in the underlying stock price. Hence, to delta-hedge this portfolio, we would need to short approximately 0.464 shares of the underlying stock per portfolio unit."
      ]
    },
    {
      "cell_type": "code",
      "execution_count": null,
      "metadata": {
        "colab": {
          "base_uri": "https://localhost:8080/"
        },
        "id": "OOl9Qd8RulUV",
        "outputId": "c9943836-230d-456c-8f9f-2fb9d7c1b550"
      },
      "outputs": [
        {
          "output_type": "stream",
          "name": "stdout",
          "text": [
            "Delta for porftolio, at time 0, where call is bought and put is sold: 0.4640020062196471\n"
          ]
        }
      ],
      "source": [
        "#Step 3, Q7c) - Delta of portfolio where Call option is bought and Put option is sold\n",
        "delta_portfolio_c=bs_european_delta(S0,K_110,r,sigma,T,t,option_type='call')-bs_european_delta(S0,K_95,r,sigma,T,t,option_type='put')\n",
        "print(f\"Delta for porftolio, at time {t}, where call is bought and put is sold: {delta_portfolio_c }\")"
      ]
    },
    {
      "cell_type": "markdown",
      "metadata": {
        "id": "_suDlKw_oBwb"
      },
      "source": [
        "###8.\n",
        "Team member B will work with Monte-Carlo methods with daily time steps to price an European Up-and-Out (UAO) barrier option. The option is currently ATM with a\n",
        "barrier level of 141 and:\n",
        "S0 = 120; r = 6%; σ = 30%; T = 8 months"
      ]
    },
    {
      "cell_type": "code",
      "execution_count": null,
      "metadata": {
        "colab": {
          "base_uri": "https://localhost:8080/"
        },
        "id": "xt9_nVF5o3Ii",
        "outputId": "ce86220a-cd45-438c-8f14-76bc38f8a2b0"
      },
      "outputs": [
        {
          "output_type": "stream",
          "name": "stdout",
          "text": [
            "Up-and-Out Barrier Option (UAO) Price: 0.68\n"
          ]
        }
      ],
      "source": [
        "import numpy as np\n",
        "\n",
        "class BarrierOptions:\n",
        "    def __init__(self, option_type, S0, strike, T, M, r, sigma, simulations, barrier, barrier_type=\"none\"):\n",
        "        self.option_type = option_type\n",
        "        self.S0 = S0\n",
        "        self.strike = strike\n",
        "        self.T = T\n",
        "        self.M = M\n",
        "        self.r = r\n",
        "        self.sigma = sigma\n",
        "        self.simulations = simulations\n",
        "        self.barrier = barrier\n",
        "        self.barrier_type = barrier_type  # \"UAI\" (Up-and-In), \"UAO\" (Up-and-Out), \"none\" (Vanilla)\n",
        "        self.time_unit = T / float(M)\n",
        "        self.discount = np.exp(-r * self.time_unit)\n",
        "\n",
        "    def simulate_paths(self, seed=42):\n",
        "        np.random.seed(seed)\n",
        "        price_paths = np.zeros((self.M + 1, self.simulations), dtype=np.float64)\n",
        "        price_paths[0, :] = self.S0\n",
        "\n",
        "        for t in range(1, self.M + 1):\n",
        "            brownian = np.random.standard_normal(self.simulations)\n",
        "            price_paths[t, :] = price_paths[t - 1, :] * np.exp(\n",
        "                (self.r - 0.5 * self.sigma ** 2) * self.time_unit + self.sigma * brownian * np.sqrt(self.time_unit)\n",
        "            )\n",
        "\n",
        "        return price_paths\n",
        "\n",
        "    def calculate_payoff(self, paths):\n",
        "        if self.option_type == \"call\":\n",
        "            payoff = np.maximum(paths[-1, :] - self.strike, 0)\n",
        "        else:\n",
        "            payoff = np.maximum(self.strike - paths[-1, :], 0)\n",
        "\n",
        "        if self.barrier_type == \"UAO\":\n",
        "            # Up-and-Out: knock out if any price hits the barrier\n",
        "            knocked_out = (paths >= self.barrier).any(axis=0)\n",
        "            payoff[knocked_out] = 0\n",
        "        elif self.barrier_type == \"UAI\":\n",
        "            # Up-and-In: only pay if barrier was hit at some point\n",
        "            knocked_in = (paths >= self.barrier).any(axis=0)\n",
        "            payoff = np.where(knocked_in, payoff, 0)\n",
        "\n",
        "        return payoff\n",
        "\n",
        "    def price(self):\n",
        "        paths = self.simulate_paths()\n",
        "        payoff = self.calculate_payoff(paths)\n",
        "        option_price = np.mean(payoff) * np.exp(-self.r * self.T)\n",
        "        return option_price\n",
        "\n",
        "# Parameters\n",
        "S0 = 120\n",
        "strike = 120\n",
        "T = 8 / 12  # 8 months as fraction of a year\n",
        "M = 252  # daily steps\n",
        "r = 0.06\n",
        "sigma = 0.3\n",
        "barrier = 141\n",
        "simulations = 10000\n",
        "\n",
        "# Price the UAO option\n",
        "UAO_option = BarrierOptions(\"call\", S0, strike, T, M, r, sigma, simulations, barrier, barrier_type=\"UAO\")\n",
        "UAO_price = UAO_option.price()\n",
        "\n",
        "# Display results\n",
        "print(f\"Up-and-Out Barrier Option (UAO) Price: {UAO_price:.2f}\")\n"
      ]
    },
    {
      "cell_type": "markdown",
      "metadata": {
        "id": "H3KAi0aOpfKc"
      },
      "source": [
        "### Q9"
      ]
    },
    {
      "cell_type": "code",
      "execution_count": null,
      "metadata": {
        "colab": {
          "base_uri": "https://localhost:8080/"
        },
        "id": "saoAf_Yuo5cA",
        "outputId": "f22c6454-c03e-428c-d11c-3c0ed3761708"
      },
      "outputs": [
        {
          "output_type": "stream",
          "name": "stdout",
          "text": [
            "Up-and-In Barrier Option (UAI) Price: 13.13\n",
            "Vanilla Option Price: 13.81\n",
            "Up-and-Out Barrier Option (UAO) Price: 0.68\n"
          ]
        }
      ],
      "source": [
        "import numpy as np\n",
        "\n",
        "class BarrierOptions:\n",
        "    def __init__(self, option_type, S0, strike, T, M, r, sigma, simulations, barrier, barrier_type=\"none\"):\n",
        "        self.option_type = option_type\n",
        "        self.S0 = S0\n",
        "        self.strike = strike\n",
        "        self.T = T\n",
        "        self.M = M\n",
        "        self.r = r\n",
        "        self.sigma = sigma\n",
        "        self.simulations = simulations\n",
        "        self.barrier = barrier\n",
        "        self.barrier_type = barrier_type  # \"UAI\" (Up-and-In), \"UAO\" (Up-and-Out), \"none\" (Vanilla)\n",
        "        self.time_unit = T / float(M)\n",
        "        self.discount = np.exp(-r * self.time_unit)\n",
        "\n",
        "    def simulate_paths(self, seed=42):\n",
        "        np.random.seed(seed)\n",
        "        price_paths = np.zeros((self.M + 1, self.simulations), dtype=np.float64)\n",
        "        price_paths[0, :] = self.S0\n",
        "\n",
        "        for t in range(1, self.M + 1):\n",
        "            brownian = np.random.standard_normal(self.simulations)\n",
        "            price_paths[t, :] = price_paths[t - 1, :] * np.exp(\n",
        "                (self.r - 0.5 * self.sigma ** 2) * self.time_unit + self.sigma * brownian * np.sqrt(self.time_unit)\n",
        "            )\n",
        "\n",
        "        return price_paths\n",
        "\n",
        "    def calculate_payoff(self, paths):\n",
        "        if self.option_type == \"call\":\n",
        "            payoff = np.maximum(paths[-1, :] - self.strike, 0)\n",
        "        else:\n",
        "            payoff = np.maximum(self.strike - paths[-1, :], 0)\n",
        "\n",
        "        if self.barrier_type == \"UAO\":\n",
        "            # Up-and-Out: knock out if any price hits the barrier\n",
        "            knocked_out = (paths >= self.barrier).any(axis=0)\n",
        "            payoff[knocked_out] = 0\n",
        "        elif self.barrier_type == \"UAI\":\n",
        "            # Up-and-In: only pay if barrier was hit at some point\n",
        "            knocked_in = (paths >= self.barrier).any(axis=0)\n",
        "            payoff = np.where(knocked_in, payoff, 0)\n",
        "\n",
        "        return payoff\n",
        "\n",
        "    def price(self):\n",
        "        paths = self.simulate_paths()\n",
        "        payoff = self.calculate_payoff(paths)\n",
        "        option_price = np.mean(payoff) * np.exp(-self.r * self.T)\n",
        "        return option_price\n",
        "\n",
        "# Parameters\n",
        "S0 = 120\n",
        "strike = 120\n",
        "T = 8 / 12  # 8 months as fraction of a year\n",
        "M = 252  # daily steps\n",
        "r = 0.06\n",
        "sigma = 0.3\n",
        "barrier = 141\n",
        "simulations = 10000\n",
        "\n",
        "# 1. Price the UAI option\n",
        "UAI_option = BarrierOptions(\"call\", S0, strike, T, M, r, sigma, simulations, barrier, barrier_type=\"UAI\")\n",
        "UAI_price = UAI_option.price()\n",
        "\n",
        "# 2. Price the Vanilla option (no barrier)\n",
        "Vanilla_option = BarrierOptions(\"call\", S0, strike, T, M, r, sigma, simulations, barrier, barrier_type=\"none\")\n",
        "Vanilla_price = Vanilla_option.price()\n",
        "\n",
        "# 3. Price the UAO option (from question 8, assuming similar setup)\n",
        "UAO_option = BarrierOptions(\"call\", S0, strike, T, M, r, sigma, simulations, barrier, barrier_type=\"UAO\")\n",
        "UAO_price = UAO_option.price()\n",
        "\n",
        "# Display results\n",
        "print(f\"Up-and-In Barrier Option (UAI) Price: {UAI_price:.2f}\")\n",
        "print(f\"Vanilla Option Price: {Vanilla_price:.2f}\")\n",
        "print(f\"Up-and-Out Barrier Option (UAO) Price: {UAO_price:.2f}\")"
      ]
    },
    {
      "cell_type": "code",
      "source": [
        "import numpy as np\n",
        "\n",
        "class BarrierOptions:\n",
        "    def __init__(self, option_type, S0, strike, T, M, r, sigma, simulations, barrier, barrier_type=\"none\"):\n",
        "        self.option_type = option_type\n",
        "        self.S0 = S0\n",
        "        self.strike = strike\n",
        "        self.T = T\n",
        "        self.M = M\n",
        "        self.r = r\n",
        "        self.sigma = sigma\n",
        "        self.simulations = simulations\n",
        "        self.barrier = barrier\n",
        "        self.barrier_type = barrier_type  # \"UAI\" (Up-and-In), \"UAO\" (Up-and-Out), \"none\" (Vanilla)\n",
        "        self.time_unit = T / float(M)\n",
        "        self.discount = np.exp(-r * self.time_unit)\n",
        "\n",
        "    def simulate_paths(self, seed=42):\n",
        "        np.random.seed(seed)\n",
        "        price_paths = np.zeros((self.M + 1, self.simulations), dtype=np.float64)\n",
        "        price_paths[0, :] = self.S0\n",
        "\n",
        "        for t in range(1, self.M + 1):\n",
        "            brownian = np.random.standard_normal(self.simulations)\n",
        "            price_paths[t, :] = price_paths[t - 1, :] * np.exp(\n",
        "                (self.r - 0.5 * self.sigma ** 2) * self.time_unit + self.sigma * brownian * np.sqrt(self.time_unit)\n",
        "            )\n",
        "\n",
        "        return price_paths\n",
        "\n",
        "    def calculate_payoff(self, paths):\n",
        "        # Initialize payoff matrix with zeros\n",
        "        payoff = np.zeros(paths.shape[1])\n",
        "\n",
        "        for t in range(1, self.M + 1):\n",
        "            if self.option_type == \"call\":\n",
        "                intrinsic_value = np.maximum(paths[t, :] - self.strike, 0)\n",
        "            else:\n",
        "                intrinsic_value = np.maximum(self.strike - paths[t, :], 0)\n",
        "\n",
        "            # Apply barrier conditions\n",
        "            if self.barrier_type == \"UAO\":\n",
        "                # Up-and-Out: knock out if any price up to time t hits the barrier\n",
        "                knocked_out = (paths[:t+1, :] >= self.barrier).any(axis=0)\n",
        "                intrinsic_value[knocked_out] = 0\n",
        "            elif self.barrier_type == \"UAI\":\n",
        "                # Up-and-In: only consider payoff if barrier was hit up to time t\n",
        "                knocked_in = (paths[:t+1, :] >= self.barrier).any(axis=0)\n",
        "                intrinsic_value = np.where(knocked_in, intrinsic_value, 0)\n",
        "\n",
        "            # Discount to present value\n",
        "            discounted_payoff = intrinsic_value * (self.discount ** t)\n",
        "\n",
        "            # Update payoff with maximum between early exercise and holding\n",
        "            payoff = np.maximum(payoff, discounted_payoff)\n",
        "\n",
        "        return payoff\n",
        "\n",
        "    def price(self):\n",
        "        paths = self.simulate_paths()\n",
        "        payoff = self.calculate_payoff(paths)\n",
        "        option_price = np.mean(payoff)  # Already discounted in each step for American option\n",
        "        return option_price\n",
        "\n",
        "# Parameters\n",
        "S0 = 120\n",
        "strike = 120\n",
        "T = 8 / 12  # 8 months as fraction of a year\n",
        "M = 1  # daily steps\n",
        "r = 0.06\n",
        "sigma = 0.3\n",
        "barrier = 141\n",
        "simulations = 1000000\n",
        "\n",
        "\n",
        "\n",
        "# 1. Price the UAI American option\n",
        "UAI_option = BarrierOptions(\"call\", S0, strike, T, M, r, sigma, simulations, barrier, barrier_type=\"UAI\")\n",
        "UAI_price = UAI_option.price()\n",
        "\n",
        "# 2. Price the Vanilla American option (no barrier)\n",
        "Vanilla_option = BarrierOptions(\"call\", S0, strike, T, M, r, sigma, simulations, barrier, barrier_type=\"none\")\n",
        "Vanilla_price = Vanilla_option.price()\n",
        "\n",
        "# 3. Price the UAO American option\n",
        "UAO_option = BarrierOptions(\"call\", S0, strike, T, M, r, sigma, simulations, barrier, barrier_type=\"UAO\")\n",
        "UAO_price = UAO_option.price()\n",
        "\n",
        "# Display results\n",
        "print(f\"Up-and-In American Barrier Option (UAI) Price: {UAI_price:.2f}\")\n",
        "print(f\"Vanilla American Option Price: {Vanilla_price:.2f}\")\n",
        "print(f\"Up-and-Out American Barrier Option (UAO) Price: {UAO_price:.2f}\")\n"
      ],
      "metadata": {
        "colab": {
          "base_uri": "https://localhost:8080/"
        },
        "id": "xjtk59K2dEjj",
        "outputId": "d5e0d7a8-6446-4671-b9af-540199b6ed45"
      },
      "execution_count": null,
      "outputs": [
        {
          "output_type": "stream",
          "name": "stdout",
          "text": [
            "Up-and-In American Barrier Option (UAI) Price: 11.59\n",
            "Vanilla American Option Price: 13.95\n",
            "Up-and-Out American Barrier Option (UAO) Price: 2.36\n"
          ]
        }
      ]
    },
    {
      "cell_type": "code",
      "source": [
        "import numpy as np\n",
        "import matplotlib.pyplot as plt\n",
        "\n",
        "class BarrierOptions:\n",
        "    def __init__(self, option_type, S0, strike, T, M, r, sigma, simulations, barrier, barrier_type=\"none\"):\n",
        "        self.option_type = option_type\n",
        "        self.S0 = S0\n",
        "        self.strike = strike\n",
        "        self.T = T\n",
        "        self.M = M\n",
        "        self.r = r\n",
        "        self.sigma = sigma\n",
        "        self.simulations = simulations\n",
        "        self.barrier = barrier\n",
        "        self.barrier_type = barrier_type\n",
        "        self.time_unit = T / float(M)\n",
        "        self.discount = np.exp(-r * self.time_unit)\n",
        "\n",
        "    def simulate_paths(self, seed=42):\n",
        "        np.random.seed(seed)\n",
        "        price_paths = np.zeros((self.M + 1, self.simulations), dtype=np.float64)\n",
        "        price_paths[0, :] = self.S0\n",
        "\n",
        "        for t in range(1, self.M + 1):\n",
        "            brownian = np.random.standard_normal(self.simulations)\n",
        "            price_paths[t, :] = price_paths[t - 1, :] * np.exp(\n",
        "                (self.r - 0.5 * self.sigma ** 2) * self.time_unit + self.sigma * brownian * np.sqrt(self.time_unit)\n",
        "            )\n",
        "\n",
        "        return price_paths\n",
        "\n",
        "# Parameters\n",
        "S0 = 120\n",
        "strike = 120\n",
        "T = 8 / 12  # 8 months as fraction of a year\n",
        "M = 1  # daily steps\n",
        "r = 0.06\n",
        "sigma = 0.3\n",
        "barrier = 141\n",
        "simulations = 10000\n",
        "\n",
        "# Initialize and simulate paths\n",
        "UAI_option = BarrierOptions(\"call\", S0, strike, T, M, r, sigma, simulations, barrier, barrier_type=\"UAI\")\n",
        "UAO_option = BarrierOptions(\"call\", S0, strike, T, M, r, sigma, simulations, barrier, barrier_type=\"UAO\")\n",
        "paths = UAI_option.simulate_paths()\n",
        "\n",
        "# Select a few sample paths for visualization\n",
        "sample_paths = paths[:, :10]  # Select first 10 paths for visualization\n",
        "time_points = np.linspace(0, T, M + 1)\n",
        "\n",
        "# Plot Up-and-In Barrier (UAI)\n",
        "plt.figure(figsize=(12, 6))\n",
        "for i in range(sample_paths.shape[1]):\n",
        "    if (sample_paths[:, i] >= barrier).any():  # Highlight path if it crosses the barrier\n",
        "        plt.plot(time_points, sample_paths[:, i], color='green', linestyle='--', label=\"Knocked-In\" if i == 0 else \"\")\n",
        "    else:\n",
        "        plt.plot(time_points, sample_paths[:, i], color='blue', label=\"Not Knocked-In\" if i == 0 else \"\")\n",
        "\n",
        "plt.axhline(y=barrier, color='red', linestyle='-', linewidth=2, label=\"Barrier Level\")\n",
        "plt.title(\"Up-and-In (UAI) Barrier Option Paths\")\n",
        "plt.xlabel(\"Time (years)\")\n",
        "plt.ylabel(\"Stock Price\")\n",
        "plt.legend()\n",
        "plt.show()\n",
        "\n",
        "# Plot Up-and-Out Barrier (UAO)\n",
        "plt.figure(figsize=(12, 6))\n",
        "for i in range(sample_paths.shape[1]):\n",
        "    if (sample_paths[:, i] >= barrier).any():  # Highlight path if it crosses the barrier\n",
        "        plt.plot(time_points, sample_paths[:, i], color='orange', linestyle='--', label=\"Knocked-Out\" if i == 0 else \"\")\n",
        "    else:\n",
        "        plt.plot(time_points, sample_paths[:, i], color='blue', label=\"Not Knocked-Out\" if i == 0 else \"\")\n",
        "\n",
        "plt.axhline(y=barrier, color='red', linestyle='-', linewidth=2, label=\"Barrier Level\")\n",
        "plt.title(\"Up-and-Out (UAO) Barrier Option Paths\")\n",
        "plt.xlabel(\"Time (years)\")\n",
        "plt.ylabel(\"Stock Price\")\n",
        "plt.legend()\n",
        "plt.show()\n"
      ],
      "metadata": {
        "colab": {
          "base_uri": "https://localhost:8080/",
          "height": 1000
        },
        "id": "fRv3ZbpPfqZY",
        "outputId": "5783c0a0-4d92-4053-e8e6-ced45a80a87f"
      },
      "execution_count": null,
      "outputs": [
        {
          "output_type": "display_data",
          "data": {
            "text/plain": [
              "<Figure size 1200x600 with 1 Axes>"
            ],
            "image/png": "[encoded data removed]"
          },
          "metadata": {}
        },
        {
          "output_type": "display_data",
          "data": {
            "text/plain": [
              "<Figure size 1200x600 with 1 Axes>"
            ],
            "image/png": "[encoded data removed]"
          },
          "metadata": {}
        }
      ]
    },
    {
      "cell_type": "markdown",
      "source": [],
      "metadata": {
        "id": "ifWsfWdL_K-z"
      }
    },
    {
      "cell_type": "code",
      "source": [
        "import numpy as np\n",
        "import pandas as pd\n",
        "import numpy.random as npr\n",
        "from scipy.stats import norm\n",
        "import scipy.stats as ss\n",
        "import matplotlib.pyplot as plt\n",
        "\n",
        "def merton_eu_call_mc(S, K, r, T, t):\n",
        "    payoff = np.maximum(0, S[-1, :] - K)\n",
        "\n",
        "    average = np.mean(payoff)\n",
        "\n",
        "    return np.exp(-r * (T - t)) * average\n",
        "\n",
        "def merton_eu_put_mc(S, K, r, T, t):\n",
        "    payoff = np.maximum(0, K - S[-1, :])\n",
        "\n",
        "    average = np.mean(payoff)\n",
        "\n",
        "    return np.exp(-r * (T - t)) * average\n",
        "\n",
        "lamb = 0.75  # Lambda of the model or intensity\n",
        "mu = -0.5  # Mu\n",
        "delta = 0.22  # Delta\n",
        "\n",
        "r = 0.055  # Risk-free rate\n",
        "sigma = 0.35  # Volatility\n",
        "T = 3/12  # Maturity/time period (in years)\n",
        "S0 = 80  # Current Stock Price\n",
        "\n",
        "Ite = 2000000  # Number of simulations (paths)\n",
        "M = 10000  # Number of steps\n",
        "dt = T / M  # Time-step\n",
        "\n",
        "SM = np.zeros((M + 1, Ite))\n",
        "SM[0] = S0\n",
        "\n",
        "# rj\n",
        "rj = lamb * (np.exp(mu + 0.5 * delta**2) - 1)\n",
        "\n",
        "np.random.seed(42)\n",
        "\n",
        "# Random numbers\n",
        "z1 = np.random.standard_normal((M + 1, Ite))\n",
        "z2 = np.random.standard_normal((M + 1, Ite))\n",
        "y = np.random.poisson(lamb * dt, (M + 1, Ite))\n",
        "\n",
        "for t in range(1, M + 1):\n",
        "    SM[t] = SM[t - 1] * (\n",
        "        np.exp((r - rj - 0.5 * sigma**2) * dt + sigma * np.sqrt(dt) * z1[t])\n",
        "        + (np.exp(mu + delta * z2[t]) - 1) * y[t]\n",
        "    )\n",
        "    SM[t] = np.maximum(\n",
        "        SM[t], 0.00001\n",
        "    )  # To ensure that the price never goes below zero!\n",
        "\n",
        "EU_Call = merton_eu_call_mc(SM, S0, r, T, 0)\n",
        "print(\"European Call Price under Merton: \", EU_Call)\n",
        "EU_Put = merton_eu_put_mc(SM, S0, r, T, 0)\n",
        "print(\"European Put Price under Merton: \", EU_Put)\n",
        "\n",
        "K =S0\n",
        "\n",
        "# Parameters\n",
        "discounted_strike = K * np.exp(-r * T)  # Discounted strike price\n",
        "\n",
        "# Check put-call parity\n",
        "parity_difference = (EU_Call - EU_Put) - (S0 - discounted_strike)\n",
        "\n",
        "# Output results\n",
        "print(\"Put-Call Parity Difference:\", parity_difference)\n",
        "if np.isclose(parity_difference, 0, atol=1e-6):\n",
        "    print(\"Put-call parity holds within the tolerance.\")\n",
        "else:\n",
        "    print(\"Put-call parity does not hold.\")"
      ],
      "metadata": {
        "id": "rHIshf22_Lq0"
      },
      "execution_count": null,
      "outputs": []
    },
    {
      "cell_type": "code",
      "source": [
        "import numpy as np\n",
        "\n",
        "# Parameters\n",
        "S0 = 80  # Initial stock price\n",
        "K = 80   # Strike price (ATM)\n",
        "r = 0.055  # Risk-free rate\n",
        "sigma = 0.35  # Volatility of diffusion component\n",
        "T = 0.25  # Time to maturity in years (3 months)\n",
        "lambda_jump = 0.25  # Jump intensity\n",
        "mu_jump = -0.5  # Mean jump size (logarithmic)\n",
        "delta_jump = 0.22  # Jump size standard deviation\n",
        "\n",
        "# Monte Carlo parameters\n",
        "N_sim = 1000000  # Number of simulations\n",
        "N_steps = 50  # Time steps\n",
        "dt = T / N_steps  # Time step size\n",
        "\n",
        "# Derived parameters\n",
        "r_j = lambda_jump * (np.exp(mu_jump + 0.5 * delta_jump**2) - 1)  # Drift correction\n",
        "\n",
        "# Seed for reproducibility\n",
        "np.random.seed(42)\n",
        "\n",
        "# Pre-compute constants for efficiency\n",
        "drift = (r - r_j - 0.5 * sigma**2) * dt\n",
        "diffusion = sigma * np.sqrt(dt)\n",
        "\n",
        "# Simulate stock paths\n",
        "S_paths = np.zeros((N_sim, N_steps + 1))\n",
        "S_paths[:, 0] = S0\n",
        "\n",
        "for t in range(1, N_steps + 1):\n",
        "    z1 = np.random.normal(0, 1, N_sim)  # Standard normal for diffusion\n",
        "    y = np.random.poisson(lambda_jump * dt, N_sim)  # Poisson random variable for jumps\n",
        "    z2 = np.random.normal(0, 1, N_sim)  # Standard normal for jump sizes\n",
        "\n",
        "    jump_component = np.exp(mu_jump + delta_jump * z2) - 1\n",
        "    S_paths[:, t] = S_paths[:, t - 1] * np.exp(drift + diffusion * z1) * (1 + jump_component)**y\n",
        "\n",
        "# Payoff at maturity\n",
        "call_payoff = np.maximum(S_paths[:, -1] - K, 0)\n",
        "put_payoff = np.maximum(K - S_paths[:, -1], 0)\n",
        "\n",
        "# Discounted payoffs for European options (baseline)\n",
        "C_European = np.exp(-r * T) * np.mean(call_payoff)\n",
        "P_European = np.exp(-r * T) * np.mean(put_payoff)\n",
        "\n",
        "# American options using Least Squares Monte Carlo (LSM)\n",
        "call_option_values = np.copy(call_payoff)\n",
        "put_option_values = np.copy(put_payoff)\n",
        "\n",
        "# Work backward through time steps for early exercise\n",
        "for t in range(N_steps - 1, 0, -1):\n",
        "    # In-the-money paths\n",
        "    call_ITM = S_paths[:, t] > K\n",
        "    put_ITM = S_paths[:, t] < K\n",
        "\n",
        "    # Regression for continuation value\n",
        "    if np.any(call_ITM):\n",
        "        X_call = S_paths[call_ITM, t]\n",
        "        Y_call = np.exp(-r * dt) * call_option_values[call_ITM]\n",
        "        continuation_call = np.polyfit(X_call, Y_call, 2)\n",
        "        expected_call = np.polyval(continuation_call, X_call)\n",
        "        call_option_values[call_ITM] = np.maximum(call_payoff[call_ITM], expected_call)\n",
        "\n",
        "    if np.any(put_ITM):\n",
        "        X_put = S_paths[put_ITM, t]\n",
        "        Y_put = np.exp(-r * dt) * put_option_values[put_ITM]\n",
        "        continuation_put = np.polyfit(X_put, Y_put, 2)\n",
        "        expected_put = np.polyval(continuation_put, X_put)\n",
        "        put_option_values[put_ITM] = np.maximum(put_payoff[put_ITM], expected_put)\n",
        "\n",
        "# Discounted American option values\n",
        "C_American = np.exp(-r * dt) * np.mean(call_option_values)\n",
        "P_American = np.exp(-r * dt) * np.mean(put_option_values)\n",
        "\n",
        "# Verify put-call parity for American options\n",
        "parity_check = C_American - P_American - (S0 - K * np.exp(-r * T))\n",
        "\n",
        "# Output results\n",
        "C_American, P_American, parity_check\n"
      ],
      "metadata": {
        "id": "3T4U3UJU_SPI",
        "colab": {
          "base_uri": "https://localhost:8080/"
        },
        "outputId": "1cd9fef0-f82d-46d2-dd2e-add9814c289c"
      },
      "execution_count": null,
      "outputs": [
        {
          "output_type": "execute_result",
          "data": {
            "text/plain": [
              "(23.566266102916998, 20.15487143848667, 2.318922621793856)"
            ]
          },
          "metadata": {},
          "execution_count": 2
        }
      ]
    },
    {
      "cell_type": "code",
      "source": [],
      "metadata": {
        "id": "-En3BAGQAg7d"
      },
      "execution_count": null,
      "outputs": []
    }
  ],
  "metadata": {
    "colab": {
      "collapsed_sections": [
        "buaj0M_8JDFL",
        "845hTRJcCyk3",
        "_djj9DEBDKgY",
        "QNYg3Vz0DZk9",
        "KdaFflS6gi-j",
        "UCwZTSTZgnFa"
      ],
      "provenance": [],
      "toc_visible": true,
      "include_colab_link": true
    },
    "kernelspec": {
      "display_name": "Python 3",
      "name": "python3"
    },
    "language_info": {
      "name": "python"
    }
  },
  "nbformat": 4,
  "nbformat_minor": 0
}