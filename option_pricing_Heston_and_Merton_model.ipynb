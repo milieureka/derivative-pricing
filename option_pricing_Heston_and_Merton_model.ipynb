{
  "cells": [
    {
      "cell_type": "markdown",
      "metadata": {
        "id": "view-in-github",
        "colab_type": "text"
      },
      "source": [
        "<a href=\"https://colab.research.google.com/github/milieureka/derivative-pricing/blob/main/option_pricing_Heston_and_Merton_model.ipynb\" target=\"_parent\"><img src=\"https://colab.research.google.com/assets/colab-badge.svg\" alt=\"Open In Colab\"/></a>"
      ]
    },
    {
      "cell_type": "markdown",
      "metadata": {
        "id": "t1Cc26t_rl09"
      },
      "source": [
        "# Load libraries"
      ]
    },
    {
      "cell_type": "code",
      "execution_count": null,
      "metadata": {
        "id": "YD8VleTKrQLx"
      },
      "outputs": [],
      "source": [
        "import numpy as np\n",
        "from sklearn.linear_model import LinearRegression\n",
        "np.random.seed(42) #Set seed for consistent results throughout code"
      ]
    },
    {
      "cell_type": "markdown",
      "metadata": {
        "id": "oWyVDsxVsR9Y"
      },
      "source": [
        "# Parameter"
      ]
    },
    {
      "cell_type": "code",
      "execution_count": null,
      "metadata": {
        "id": "xZ9YTqpisRlF"
      },
      "outputs": [],
      "source": [
        "S0=80 #Intial stock price\n",
        "r=5.5/100 #Risk-free rate of 5.5%\n",
        "sigma=35/100 #35% volatility of volatility\n",
        "T=3/12 #3 months to Maturity\n",
        "K=S0 #ATM European call and put\n",
        "v0=3.2/100 #initial volatility of 3.2%\n",
        "kappa_v=1.85\n",
        "theta_v=0.045\n",
        "M=90 #Number of paths to simulate in Monte-Carlo\n",
        "Ite=1000000 #Number of steps in Monte-Carlo\n",
        "t=0 #Price options at time 0"
      ]
    },
    {
      "cell_type": "markdown",
      "metadata": {
        "id": "EHnZfwlIr1w-"
      },
      "source": [
        "# Step 1"
      ]
    },
    {
      "cell_type": "markdown",
      "metadata": {
        "id": "Atdi7z4vr7lb"
      },
      "source": [
        "### Pricing ATM European Call and Put options under Heston model with -0.30 correlation"
      ]
    },
    {
      "cell_type": "code",
      "execution_count": null,
      "metadata": {
        "id": "aNk77eBxrxxR"
      },
      "outputs": [],
      "source": [
        "def random_number_generator(M,Ite):\n",
        "    \"\"\"Generate random numbers fron standard normal distribution\n",
        "    given number of steps and number of iterations\n",
        "    for Monte-Carlo simulation\n",
        "    INPUTS: M - number of steps in MC, Ite - number of iterations in MC\n",
        "    OUTPUT: rand - array of random numbers\"\"\"\n",
        "    rand=np.random.standard_normal((2,M+1,Ite))\n",
        "    return rand"
      ]
    },
    {
      "cell_type": "code",
      "execution_count": null,
      "metadata": {
        "id": "GYgJTH3tskEj"
      },
      "outputs": [],
      "source": [
        "def cholesky_decomp(rho):\n",
        "    \"\"\"Perform Cholesky decomposition of covariance matrix for a given\n",
        "    correlation between Weiner processes\n",
        "    INPUT: rho - correlation\n",
        "    OUTPUT: cholesky_matrix - lower Cholesky decomposition of covariance\n",
        "    matrix to account for correlation between Weiner processes\"\"\"\n",
        "    cov_matrix=np.zeros((2,2),dtype=np.float64)\n",
        "    cov_matrix[0]=[1.0,rho]\n",
        "    cov_matrix[1]=[rho,1.0]\n",
        "    cholesky_matrix=np.linalg.cholesky(cov_matrix)\n",
        "    return cholesky_matrix"
      ]
    },
    {
      "cell_type": "code",
      "execution_count": null,
      "metadata": {
        "id": "TGHH1gvhsnG3"
      },
      "outputs": [],
      "source": [
        "def Heston_vol(v0,kappa,theta,sigma,T,M,Ite,rand,row,cho_matrix):\n",
        "    \"\"\"Calculate stochastic volatility under the Heston model\n",
        "    INPUTS: v0 - initial volatility, kappa - rate of mean-reversion,\n",
        "    theta - long run average variance, sigma - volatility of volatility,\n",
        "    T - time to maturity, M - number of steps in MC, Ite - number of iterations in MC,\n",
        "    rand - generated random numbers from standard normal,\n",
        "    row - row of array to apply random numbers,\n",
        "    cho_matrix - lower Cholesky decomposition of covariance matrix\n",
        "    OUTPUT: simulated volatility under Heston model\"\"\"\n",
        "    dt=T/M #Time increment\n",
        "    ran=np.tensordot(cho_matrix, rand,axes=([1],[0])) #Apply Cholesky decomposition\n",
        "    ran_row=ran[row,1:] #Initialise random numbers\n",
        "    v=np.zeros((M+1,Ite),dtype=np.float64) #Create volatility array\n",
        "    v[0]=v0 #Set initial volatility\n",
        "    #Heston volatility SDE\n",
        "    v_increment=kappa*theta*dt-kappa*v[:-1]*dt+sigma*np.sqrt(dt)*ran_row*np.sqrt(np.maximum(v[:-1],0))\n",
        "    #Volaility cannnot be negative\n",
        "    v[1:]=np.maximum(v[0]+np.cumsum(v_increment,axis=0),0)\n",
        "    return v"
      ]
    },
    {
      "cell_type": "code",
      "execution_count": null,
      "metadata": {
        "id": "XmAXO-MPspTE"
      },
      "outputs": [],
      "source": [
        "def Heston_paths(S0,r,v,T,M,Ite,rand,row,cho_matrix):\n",
        "    \"\"\"Simulate stock paths under the Heston model using Monte-Carlo methods\n",
        "    INPUTS: S0 - intial stock (underlying) price, r - risk-free rate,\n",
        "    v - stochastic volatility under Heston model, T - time to maturity,\n",
        "    M - number of steps in MC, Ite - number of iterations in MC,\n",
        "    rand - generated random numbers from standard normal,\n",
        "    row - row of array to apply random numbers,\n",
        "    cho_matrix - Lower Cholesky decomposition of covariance matrix\n",
        "    OUTPUT: S - simulated stock price paths under Heston model\"\"\"\n",
        "    dt=T/M\n",
        "    ran=np.tensordot(cho_matrix, rand,axes=([1],[0]))\n",
        "    ran_row=ran[row,1:]\n",
        "    S=np.zeros((M+1,Ite),dtype=np.float64)\n",
        "    S[0]=S0\n",
        "    S[1:]=S0*np.cumprod(np.exp((r-0.5*v[1:])*dt+np.sqrt(v[1:])*ran_row*np.sqrt(dt)),axis=0)\n",
        "    return S"
      ]
    },
    {
      "cell_type": "code",
      "execution_count": null,
      "metadata": {
        "id": "cYdbqWmosrza"
      },
      "outputs": [],
      "source": [
        "def European_price(S,K,r,T,t,option_type='call'):\n",
        "    \"\"\"Calculate vanilla European Call and Put option prices using Monte-Carlo simulation\n",
        "    INPUTS: S - stock price paths, K - strike price, r - risk-free rate,\n",
        "    T - time to maturity, t - time to calculate option prices at,\n",
        "    option_type - either 'call' or 'put'\n",
        "    OUTPUT: Price of vanilla European call or put option\"\"\"\n",
        "    if option_type.lower()=='call':\n",
        "        payoff=np.maximum(S[-1:]-K,0)\n",
        "    elif option_type.lower()=='put':\n",
        "        payoff=np.maximum(K-S[-1,:],0)\n",
        "    average=np.mean(payoff)\n",
        "    return np.exp(-r*(T-t))*average"
      ]
    },
    {
      "cell_type": "code",
      "execution_count": null,
      "metadata": {
        "colab": {
          "base_uri": "https://localhost:8080/"
        },
        "id": "ihmqk2X3ssMc",
        "outputId": "5345dfd3-a88f-4033-be3b-25846b10c5a3"
      },
      "outputs": [
        {
          "output_type": "stream",
          "name": "stdout",
          "text": [
            "European call option price under Heston model with -0.30 correlation is: $3.86\n",
            "European put option price under Heston model with -0.30 correlation is: $2.72\n"
          ]
        }
      ],
      "source": [
        "rho_1=-0.30 #Correlation of -0.30\n",
        "#Perform Cholesky decompposition\n",
        "cho_matrix1=cholesky_decomp(rho_1)\n",
        "rand=random_number_generator(M, Ite) #Generate random number\n",
        "row=1  #Apply random numbers to first row of simulated volatility and stock paths\n",
        "#Simulate Heston volatility\n",
        "v_1=Heston_vol(v0,kappa_v,theta_v,sigma,T,M,Ite,rand,row,cho_matrix1)\n",
        "#Simulate Heston stock paths\n",
        "S_heston1=Heston_paths(S0,r,v_1,T,M,Ite,rand,row,cho_matrix1)\n",
        "#Price European call option under Heston model\n",
        "european_call_heston1=np.round(European_price(S_heston1,K,r,T,t,option_type='call'),2)\n",
        "print(f\"European call option price under Heston model with -0.30 correlation is: ${european_call_heston1}\")\n",
        "#Price European put option under Heston model\n",
        "european_put_heston1=np.round(European_price(S_heston1,K,r,T,t,option_type='put'),2)\n",
        "print(f\"European put option price under Heston model with -0.30 correlation is: ${european_put_heston1}\")"
      ]
    },
    {
      "cell_type": "markdown",
      "metadata": {
        "id": "XWghP97Is5mk"
      },
      "source": [
        "### Pricing ATM European Call and Put options under Heston model with -0.70 correlation"
      ]
    },
    {
      "cell_type": "code",
      "execution_count": null,
      "metadata": {
        "id": "deOtebvUs8Mh"
      },
      "outputs": [],
      "source": [
        "rho_2=-0.70 #Correlation of -0.70"
      ]
    },
    {
      "cell_type": "code",
      "execution_count": null,
      "metadata": {
        "id": "E6qTH11MtESu",
        "colab": {
          "base_uri": "https://localhost:8080/"
        },
        "outputId": "cb70e6da-295c-4f9a-edc7-8d621e0ad1d6"
      },
      "outputs": [
        {
          "output_type": "stream",
          "name": "stdout",
          "text": [
            "European call option price under Heston model with -0.70 correlation is: $3.86\n",
            "European put option price under Heston model with -0.70 correlation is: $2.72\n"
          ]
        }
      ],
      "source": [
        "#Redo Cholesky decomposition\n",
        "cho_matrix2=cholesky_decomp(rho_2)\n",
        "#Regenerate random number\n",
        "rand=random_number_generator(M, Ite)\n",
        "#Re-simulate Heston volatility and stock paths\n",
        "v_2=Heston_vol(v0,kappa_v,theta_v,sigma,T,M,Ite,rand,row,cho_matrix2)\n",
        "S_heston2=Heston_paths(S0,r,v_2,T,M,Ite,rand,row,cho_matrix2)\n",
        "european_call_heston2=np.round(European_price(S_heston2,K,r,T,t,option_type='call'),2)\n",
        "print(f\"European call option price under Heston model with -0.70 correlation is: ${european_call_heston2}\")\n",
        "#Price European put option under Heston model\n",
        "european_put_heston2=np.round(European_price(S_heston2,K,r,T,t,option_type='put'),2)\n",
        "print(f\"European put option price under Heston model with -0.70 correlation is: ${european_put_heston2}\")"
      ]
    },
    {
      "cell_type": "markdown",
      "source": [
        "## Check Put-Call Parity For number 5 and 6"
      ],
      "metadata": {
        "id": "zgGYT7xEHujo"
      }
    },
    {
      "cell_type": "code",
      "source": [
        "def check_put_call_parity(C, P, S0, K, r, T):\n",
        "    \"\"\"Check put-call parity for European options.\n",
        "    INPUTS:\n",
        "    C - Call option price\n",
        "    P - Put option price\n",
        "    S0 - Initial stock price\n",
        "    K - Strike price\n",
        "    r - Risk-free rate\n",
        "    T - Time to maturity\n",
        "    OUTPUT:\n",
        "    Parity result and discrepancy\"\"\"\n",
        "    lhs = C - P\n",
        "    rhs = S0 - K * np.exp(-r * T)\n",
        "    discrepancy = np.abs(lhs - rhs)\n",
        "    return lhs, rhs, discrepancy\n",
        "\n",
        "# Calculate put-call parity for correlation -0.30\n",
        "lhs_1, rhs_1, discrepancy_1 = check_put_call_parity(\n",
        "    european_call_heston1, european_put_heston1, S0, K, r, T\n",
        ")\n",
        "\n",
        "print(\"\\nPut-Call Parity Check for Correlation -0.30:\")\n",
        "print(f\"LHS (C - P): {lhs_1:.2f}\")\n",
        "print(f\"RHS (S0 - K * exp(-r * T)): {rhs_1:.2f}\")\n",
        "print(f\"Discrepancy: {discrepancy_1:.2e}\")\n",
        "\n",
        "# Calculate put-call parity for correlation -0.70\n",
        "lhs_2, rhs_2, discrepancy_2 = check_put_call_parity(\n",
        "    european_call_heston2, european_put_heston2, S0, K, r, T\n",
        ")\n",
        "\n",
        "print(\"\\nPut-Call Parity Check for Correlation -0.70:\")\n",
        "print(f\"LHS (C - P): {lhs_2:.2f}\")\n",
        "print(f\"RHS (S0 - K * exp(-r * T)): {rhs_2:.2f}\")\n",
        "print(f\"Discrepancy: {discrepancy_2:.2f}\")\n"
      ],
      "metadata": {
        "id": "f7qSvCPe7cnQ",
        "colab": {
          "base_uri": "https://localhost:8080/"
        },
        "outputId": "f4473111-5839-49b8-fddf-36412b35fcda"
      },
      "execution_count": null,
      "outputs": [
        {
          "output_type": "stream",
          "name": "stdout",
          "text": [
            "\n",
            "Put-Call Parity Check for Correlation -0.30:\n",
            "LHS (C - P): 1.14\n",
            "RHS (S0 - K * exp(-r * T)): 1.09\n",
            "Discrepancy: 4.75e-02\n",
            "\n",
            "Put-Call Parity Check for Correlation -0.70:\n",
            "LHS (C - P): 1.14\n",
            "RHS (S0 - K * exp(-r * T)): 1.09\n",
            "Discrepancy: 0.05\n"
          ]
        }
      ]
    },
    {
      "cell_type": "markdown",
      "metadata": {
        "id": "bRSaVS36tIiQ"
      },
      "source": [
        "**Calculate delta and gamma for each of the options in Q5 and Q6**"
      ]
    },
    {
      "cell_type": "code",
      "execution_count": null,
      "metadata": {
        "id": "3KULq8C2tJyw"
      },
      "outputs": [],
      "source": [
        "def Heston_european_delta(S0,S_increment,r,K,v0,kappa,theta,sigma,T,t,M,Ite,rand,row,cho_matrix,option_type='call'):\n",
        "    \"\"\"Calculate delta for vanilla European call and put options under Heston model\n",
        "    INPUTS: S0 - Initial stock price, S_increment - amount to change initial\n",
        "    stock price by to numerically calculate delta,\n",
        "    r - risk-free rate, K - strike price, v0 - initiality volatility,\n",
        "    kappa - rate of mean-reversion, theta - long run average variance,\n",
        "    sigma - volatility of volatility, T - time to maturity,\n",
        "    t - time to calculate option prices at, M - number of steps in MC,\n",
        "    Ite - number of iterations in MC, rand - generated random numbers,\n",
        "    row - row of array to apply random numbers,\n",
        "    cho_matrix - Lower Cholesky decomposition of covariance matrix,\n",
        "    option_type - either 'call' or 'put'\n",
        "    OUTPUT: Delta for vanilla European option under Heston model calculated\n",
        "    using first-order foward finite-difference\"\"\"\n",
        "    v=Heston_vol(v0,kappa,theta,sigma,T,M,Ite,rand,row,cho_matrix)\n",
        "    S1=Heston_paths(S0,r,v,T,M,Ite,rand,row,cho_matrix)\n",
        "    S2=Heston_paths(S0+S_increment,r,v,T,M,Ite,rand,row,cho_matrix)\n",
        "    option_noinc=European_price(S1,K,r,T,t,option_type)\n",
        "    option_inc=European_price(S2,K,r,T,t,option_type)\n",
        "    return (option_inc-option_noinc)/S_increment"
      ]
    },
    {
      "cell_type": "code",
      "execution_count": null,
      "metadata": {
        "id": "L53ONy-mtXWU"
      },
      "outputs": [],
      "source": [
        "def Heston_european_gamma(S0,S_increment,r,K,v0,kappa,theta,sigma,T,t,M,Ite,rand,row,cho_matrix,option_type='call'):\n",
        "    \"\"\"Calculate gamma for vanilla European call and put options under Heston model\n",
        "    INPUTS: S0 - Initial stock price, S_increment - amount to change initial\n",
        "    stock price by to numerically calculate delta,\n",
        "    r - risk-free rate, K - strike price, v0 - initiality volatility,\n",
        "    kappa - rate of mean-reversion, theta - long run average variance,\n",
        "    sigma - volatility of volatility, T - time to maturity,\n",
        "    t - time to calculate option prices at, M - number of steps in MC,\n",
        "    Ite - number of iterations in MC, rand - generated random numbers,\n",
        "    row - row of array to apply random numbers,\n",
        "    cho_matrix - Lower Cholesky decomposition of covariance matrix,\n",
        "    option_type - either 'call' or 'put'\n",
        "    OUTPUT: Gamma for vanilla European option under Heston model calculated\n",
        "    using second-order central finite difference\"\"\"\n",
        "    v=Heston_vol(v0,kappa,theta,sigma,T,M,Ite,rand,row,cho_matrix)\n",
        "    S1=Heston_paths(S0,r,v,T,M,Ite,rand,row,cho_matrix)\n",
        "    S2=Heston_paths(S0+S_increment,r,v,T,M,Ite,rand,row,cho_matrix)\n",
        "    S3=Heston_paths(S0-S_increment,r,v,T,M,Ite,rand,row,cho_matrix)\n",
        "    option_noinc=European_price(S1,K,r,T,t,option_type)\n",
        "    option_plus=European_price(S2,K,r,T,t,option_type)\n",
        "    option_minus=European_price(S3,K,r,T,t,option_type)\n",
        "    return (option_plus-2*option_noinc+option_minus)/(S_increment**2)"
      ]
    },
    {
      "cell_type": "markdown",
      "metadata": {
        "id": "OQ4ZfmjstcSy"
      },
      "source": [
        "Delta and gamma for Call and Put options with rho=-0.30 (Q5)"
      ]
    },
    {
      "cell_type": "code",
      "execution_count": null,
      "metadata": {
        "colab": {
          "base_uri": "https://localhost:8080/"
        },
        "id": "81isG_W_tZ9t",
        "outputId": "93fe38ad-afef-4a5f-b4df-b727f731e9c5"
      },
      "outputs": [
        {
          "output_type": "stream",
          "name": "stdout",
          "text": [
            "Delta for European Call option under Heston model with -0.30 correlation is: 0.574372831690817\n",
            "Delta for European Put option under Heston model with -0.30 correlation is: -0.4261514819765555\n",
            "Gamma for European options under Heston model with -0.30 correlation is: 0.04782608146319811\n"
          ]
        }
      ],
      "source": [
        "S_increment=0.0001*S0 #Small change in initial stock price of 0.01%\n",
        "#Delta and gamma for Call and Put options with rho=-0.30\n",
        "delta_call1=Heston_european_delta(S0, S_increment, r, K, v0, kappa_v, theta_v, sigma, T, t, M, Ite, rand, row, cho_matrix1,option_type='call')\n",
        "delta_put1=Heston_european_delta(S0, S_increment, r, K, v0, kappa_v, theta_v, sigma, T, t, M, Ite, rand, row, cho_matrix1,option_type='put')\n",
        "#Gamma is the same for both Call and Put Options, so only need to evaluate for Call option\n",
        "gamma1=Heston_european_gamma(S0,S_increment,r,K,v0,kappa_v,theta_v,sigma,T,t,M,Ite,rand,row,cho_matrix1,option_type='call')\n",
        "print(f\"Delta for European Call option under Heston model with -0.30 correlation is: {delta_call1}\")\n",
        "print(f\"Delta for European Put option under Heston model with -0.30 correlation is: {delta_put1}\")\n",
        "print(f\"Gamma for European options under Heston model with -0.30 correlation is: {gamma1}\")"
      ]
    },
    {
      "cell_type": "markdown",
      "metadata": {
        "id": "8ANqA2ystvSN"
      },
      "source": [
        "Delta and gamma for Call and Put options with rho=-0.70 (Q6)"
      ]
    },
    {
      "cell_type": "code",
      "execution_count": null,
      "metadata": {
        "colab": {
          "base_uri": "https://localhost:8080/"
        },
        "id": "kzux5sWhtts_",
        "outputId": "b076e847-4982-4818-ef75-bd5fe1860873"
      },
      "outputs": [
        {
          "output_type": "stream",
          "name": "stdout",
          "text": [
            "Delta for European Call option under Heston model with -0.70 correlation is: 0.5752997434682605\n",
            "Delta for European Put option under Heston model with -0.70 correlation is: -0.425263354597083\n",
            "Gamma for European options under Heston model with -0.70 correlation is: 0.05103275705492516\n"
          ]
        }
      ],
      "source": [
        "delta_call2=Heston_european_delta(S0, S_increment, r, K, v0, kappa_v, theta_v, sigma, T, t, M, Ite, rand, row, cho_matrix2,option_type='call')\n",
        "delta_put2=Heston_european_delta(S0, S_increment, r, K, v0, kappa_v, theta_v, sigma, T, t, M, Ite, rand, row, cho_matrix2,option_type='put')\n",
        "#Gamma is the same for both Call and Put Options, so only need to evaluate for Call option\n",
        "gamma2=Heston_european_gamma(S0,S_increment,r,K,v0,kappa_v,theta_v,sigma,T,t,M,Ite,rand,row,cho_matrix2,option_type='call')\n",
        "print(f\"Delta for European Call option under Heston model with -0.70 correlation is: {delta_call2}\")\n",
        "print(f\"Delta for European Put option under Heston model with -0.70 correlation is: {delta_put2}\")\n",
        "print(f\"Gamma for European options under Heston model with -0.70 correlation is: {gamma2}\")"
      ]
    },
    {
      "cell_type": "markdown",
      "metadata": {
        "id": "E0ZL4NID-9vP"
      },
      "source": [
        "## Merton Model\n",
        "\n",
        "- Using the Merton Model, price an ATM European call and put with jump intensity parameter equal to 0.75.\n",
        "- Using the Merton Model, price an ATM European call and put with jump intensity parameter equal to 0.25.\n",
        "- Calculate delta and gamma for each of the options in 2 requirement above"
      ]
    },
    {
      "cell_type": "code",
      "source": [
        "# Parameters\n",
        "S0 = 80  # Initial stock price\n",
        "r = 0.055  # Risk-free rate\n",
        "sigma = 0.35  # Volatility\n",
        "T = 3 / 12  # Time to maturity (3 months)\n",
        "mu = -0.5  # Jump mean\n",
        "delta = 0.22  # Jump standard deviation\n",
        "lambdas = [0.75, 0.25]  # Jump intensities\n",
        "K = S0  # ATM strike price\n",
        "\n",
        "# Simulation parameters\n",
        "Ite = 3000000  # Number of iterations\n",
        "M = 50  # Number of steps\n",
        "dt = T / M  # Time step\n",
        "\n",
        "# Function to calculate European option price and Greeks\n",
        "def merton_option_pricing(S0, r, sigma, T, mu, delta, lamb, K, Ite, M):\n",
        "    dt = T / M\n",
        "    rj = lamb * (np.exp(mu + 0.5 * delta**2) - 1)  # Adjustment for jumps\n",
        "\n",
        "    # Pre-generate random numbers\n",
        "    z1 = np.random.standard_normal((M, Ite))  # For diffusion\n",
        "    z2 = np.random.standard_normal((M, Ite))  # For jump size\n",
        "    y = np.random.poisson(lamb * dt, (M, Ite))  # For jump frequency\n",
        "\n",
        "    # Initialize stock price matrix\n",
        "    SM = np.zeros((M + 1, Ite))\n",
        "    SM[0] = S0\n",
        "\n",
        "    # Simulate paths\n",
        "    for t in range(1, M + 1):\n",
        "        jump_component = (np.exp(mu + delta * z2[t - 1]) - 1) * y[t - 1]\n",
        "        diffusion_component = (r - rj - 0.5 * sigma**2) * dt + sigma * np.sqrt(dt) * z1[t - 1]\n",
        "        SM[t] = SM[t - 1] * (np.exp(diffusion_component) + jump_component)\n",
        "        SM[t] = np.maximum(SM[t], 0.00001)  # Ensure non-negative prices\n",
        "\n",
        "    # Option payoffs\n",
        "    ST = SM[-1]\n",
        "    call_payoff = np.maximum(ST - K, 0)\n",
        "    put_payoff = np.maximum(K - ST, 0)\n",
        "\n",
        "    # Discounted prices\n",
        "    call_price = np.exp(-r * T) * np.mean(call_payoff)\n",
        "    put_price = np.exp(-r * T) * np.mean(put_payoff)\n",
        "\n",
        "    # Greeks (finite difference method)\n",
        "    epsilon = 1e-4\n",
        "    S_up = S0 * (1 + epsilon)\n",
        "    S_down = S0 * (1 - epsilon)\n",
        "\n",
        "    # Re-run simulations for delta and gamma calculations\n",
        "    SM_up = np.zeros((M + 1, Ite))\n",
        "    SM_down = np.zeros((M + 1, Ite))\n",
        "    SM_up[0] = S_up\n",
        "    SM_down[0] = S_down\n",
        "\n",
        "    for t in range(1, M + 1):\n",
        "        jump_up = (np.exp(mu + delta * z2[t - 1]) - 1) * y[t - 1]\n",
        "        jump_down = jump_up\n",
        "\n",
        "        diffusion_up = (r - rj - 0.5 * sigma**2) * dt + sigma * np.sqrt(dt) * z1[t - 1]\n",
        "        diffusion_down = diffusion_up\n",
        "\n",
        "        SM_up[t] = SM_up[t - 1] * (np.exp(diffusion_up) + jump_up)\n",
        "        SM_down[t] = SM_down[t - 1] * (np.exp(diffusion_down) + jump_down)\n",
        "\n",
        "        SM_up[t] = np.maximum(SM_up[t], 0.00001)\n",
        "        SM_down[t] = np.maximum(SM_down[t], 0.00001)\n",
        "\n",
        "    ST_up = SM_up[-1]\n",
        "    ST_down = SM_down[-1]\n",
        "\n",
        "    call_delta = (np.mean(np.maximum(ST_up - K, 0)) - np.mean(np.maximum(ST_down - K, 0))) / (2 * S0 * epsilon)\n",
        "    put_delta = (np.mean(np.maximum(K - ST_down, 0)) - np.mean(np.maximum(K - ST_up, 0))) / (2 * S0 * epsilon)\n",
        "\n",
        "    call_gamma = (\n",
        "        (np.mean(np.maximum(ST_up - K, 0)) + np.mean(np.maximum(ST_down - K, 0)) - 2 * np.mean(call_payoff))\n",
        "        / (S0**2 * epsilon**2)\n",
        "    )\n",
        "    put_gamma = (\n",
        "        (np.mean(np.maximum(K - ST_down, 0)) + np.mean(np.maximum(K - ST_up, 0)) - 2 * np.mean(put_payoff))\n",
        "        / (S0**2 * epsilon**2)\n",
        "    )\n",
        "\n",
        "    return call_price, put_price, call_delta, put_delta, call_gamma, put_gamma"
      ],
      "metadata": {
        "id": "FmDPd17oMtR0"
      },
      "execution_count": null,
      "outputs": []
    },
    {
      "cell_type": "markdown",
      "source": [
        "## Check Put Parity"
      ],
      "metadata": {
        "id": "hKImHxVkYavg"
      }
    },
    {
      "cell_type": "code",
      "source": [
        "# Results\n",
        "for lamb in lambdas:\n",
        "    call_price, put_price, call_delta, put_delta, call_gamma, put_gamma = merton_option_pricing(\n",
        "        S0, r, sigma, T, mu, delta, lamb, K, Ite, M\n",
        "    )\n",
        "\n",
        "    # Put-Call Parity Check\n",
        "    parity_difference = call_price - put_price - (S0 - K * np.exp(-r * T))\n",
        "    assert abs(parity_difference) <= 0.05, f\"Put-Call Parity violated: {parity_difference}\"\n",
        "\n",
        "    print(f\"Jump intensity (lambda): {lamb}\")\n",
        "    print(f\"Call Price: {call_price:.4f}, Put Price: {put_price:.4f}\")\n",
        "    print(f\"Call Delta: {call_delta:.4f}, Put Delta: {put_delta:.4f}\")\n",
        "    print(f\"Call Gamma: {call_gamma:.6f}, Put Gamma: {put_gamma:.6f}\")\n",
        "    print(f\"Put-Call Parity Check Passed (Difference: {parity_difference:.8f})\")\n",
        "    print(\"-\")\n"
      ],
      "metadata": {
        "colab": {
          "base_uri": "https://localhost:8080/"
        },
        "id": "cigDt5CK3eU_",
        "outputId": "42cc1780-cbf0-4cb8-adb8-1407935f24ff"
      },
      "execution_count": null,
      "outputs": [
        {
          "output_type": "stream",
          "name": "stdout",
          "text": [
            "Jump intensity (lambda): 0.75\n",
            "Call Price: 8.3084, Put Price: 7.2174\n",
            "Call Delta: 0.6573, Put Delta: 0.3565\n",
            "Call Gamma: 0.021904, Put Gamma: 0.021904\n",
            "Put-Call Parity Check Passed (Difference: -0.00152982)\n",
            "-\n",
            "Jump intensity (lambda): 0.25\n",
            "Call Price: 6.8237, Put Price: 5.7320\n",
            "Call Delta: 0.6059, Put Delta: 0.4079\n",
            "Call Gamma: 0.026979, Put Gamma: 0.026979\n",
            "Put-Call Parity Check Passed (Difference: -0.00079382)\n",
            "-\n"
          ]
        }
      ]
    },
    {
      "cell_type": "code",
      "source": [
        "S0=80 #Intial stock price\n",
        "r=5.5/100 #Risk-free rate of 5.5%\n",
        "sigma=35/100 #35% volatility of volatility\n",
        "T=3/12 #3 months to Maturity\n",
        "K=S0 #ATM European call and put\n",
        "v0=3.2/100 #initial volatility of 3.2%\n",
        "kappa_v=1.85\n",
        "theta_v=0.045\n",
        "M=90 #Number of paths to simulate in Monte-Carlo\n",
        "Ite=1000000 #Number of steps in Monte-Carlo\n",
        "t=0 #Price options at time 0"
      ],
      "metadata": {
        "id": "VGN__v3DUY3f"
      },
      "execution_count": null,
      "outputs": []
    },
    {
      "cell_type": "code",
      "execution_count": null,
      "metadata": {
        "id": "PA-smuTct_UY",
        "colab": {
          "base_uri": "https://localhost:8080/"
        },
        "outputId": "e285c6ea-bb1e-415a-d70f-f5e1b7f61c6e"
      },
      "outputs": [
        {
          "output_type": "stream",
          "name": "stdout",
          "text": [
            "Results for Different Strike Prices (Moneyness: 0.85 to 1.15):\n",
            "\n",
            "Strike Price: 94.12 (Moneyness: 0.85)\n",
            "Heston Call Price: 0.3050, Heston Put Price: 13.1047\n",
            "Merton Model:\n",
            "  Lambda 0.75: Call Price: 2.8130, Put Price: 15.6457\n",
            "  Lambda 0.25: Call Price: 2.0034, Put Price: 14.8258\n",
            "--------------------------------------------------\n",
            "Strike Price: 88.89 (Moneyness: 0.9)\n",
            "Heston Call Price: 0.8944, Heston Put Price: 8.5388\n",
            "Merton Model:\n",
            "  Lambda 0.75: Call Price: 4.3700, Put Price: 11.9735\n",
            "  Lambda 0.25: Call Price: 3.2743, Put Price: 10.9383\n",
            "--------------------------------------------------\n",
            "Strike Price: 84.21 (Moneyness: 0.95)\n",
            "Heston Call Price: 2.0517, Heston Put Price: 5.0753\n",
            "Merton Model:\n",
            "  Lambda 0.75: Call Price: 6.2126, Put Price: 9.2671\n",
            "  Lambda 0.25: Call Price: 4.8950, Put Price: 7.9571\n",
            "--------------------------------------------------\n",
            "Strike Price: 80.00 (Moneyness: 1.0)\n",
            "Heston Call Price: 3.8635, Heston Put Price: 2.7298\n",
            "Merton Model:\n",
            "  Lambda 0.75: Call Price: 8.3086, Put Price: 7.2003\n",
            "  Lambda 0.25: Call Price: 6.8401, Put Price: 5.7340\n",
            "--------------------------------------------------\n",
            "Strike Price: 76.19 (Moneyness: 1.05)\n",
            "Heston Call Price: 6.2126, Heston Put Price: 1.3072\n",
            "Merton Model:\n",
            "  Lambda 0.75: Call Price: 10.5392, Put Price: 5.7043\n",
            "  Lambda 0.25: Call Price: 8.9652, Put Price: 4.1131\n",
            "--------------------------------------------------\n",
            "Strike Price: 72.73 (Moneyness: 1.1)\n",
            "Heston Call Price: 8.8821, Heston Put Price: 0.5651\n",
            "Merton Model:\n",
            "  Lambda 0.75: Call Price: 12.8305, Put Price: 4.5656\n",
            "  Lambda 0.25: Call Price: 11.2366, Put Price: 2.9676\n",
            "--------------------------------------------------\n",
            "Strike Price: 69.57 (Moneyness: 1.15)\n",
            "Heston Call Price: 11.6343, Heston Put Price: 0.2204\n",
            "Merton Model:\n",
            "  Lambda 0.75: Call Price: 15.1301, Put Price: 3.7379\n",
            "  Lambda 0.25: Call Price: 13.5659, Put Price: 2.1806\n",
            "--------------------------------------------------\n"
          ]
        }
      ],
      "source": [
        "# Moneyness values and corresponding strike prices\n",
        "moneyness_values = [0.85, 0.90, 0.95, 1.00, 1.05, 1.10, 1.15]\n",
        "strike_prices = [S0 / m for m in moneyness_values]\n",
        "\n",
        "# Function to calculate prices for different strikes\n",
        "def price_for_strikes_heston_merton(S0, r, sigma, T, v0, kappa_v, theta_v, K_list, M, Ite, mu, delta, lambdas, rho):\n",
        "    heston_results = []\n",
        "    merton_results = []\n",
        "\n",
        "    for K in K_list:\n",
        "        # Heston Model\n",
        "        cho_matrix = cholesky_decomp(rho)\n",
        "        rand = random_number_generator(M, Ite)\n",
        "        row = 1\n",
        "        v = Heston_vol(v0, kappa_v, theta_v, sigma, T, M, Ite, rand, row, cho_matrix)\n",
        "        S_heston = Heston_paths(S0, r, v, T, M, Ite, rand, row, cho_matrix)\n",
        "        call_price_heston = European_price(S_heston, K, r, T, t, option_type='call')\n",
        "        put_price_heston = European_price(S_heston, K, r, T, t, option_type='put')\n",
        "        heston_results.append((K, call_price_heston, put_price_heston))\n",
        "\n",
        "        # Merton Model\n",
        "        merton_prices = []\n",
        "        for lamb in lambdas:\n",
        "            call_price, put_price, _, _, _, _ = merton_option_pricing(\n",
        "                S0, r, sigma, T, mu, delta, lamb, K, Ite, M\n",
        "            )\n",
        "            merton_prices.append((call_price, put_price))\n",
        "        merton_results.append((K, merton_prices))\n",
        "\n",
        "    return heston_results, merton_results\n",
        "\n",
        "# Run the models for the 7 strike prices\n",
        "rho = -0.30  # Using -0.30 correlation for Heston model\n",
        "heston_prices, merton_prices = price_for_strikes_heston_merton(\n",
        "    S0, r, sigma, T, v0, kappa_v, theta_v, strike_prices, M, Ite, mu, delta, lambdas, rho\n",
        ")\n",
        "\n",
        "# Display results\n",
        "print(\"Results for Different Strike Prices (Moneyness: 0.85 to 1.15):\\n\")\n",
        "for i, K in enumerate(strike_prices):\n",
        "    print(f\"Strike Price: {K:.2f} (Moneyness: {moneyness_values[i]})\")\n",
        "    print(f\"Heston Call Price: {heston_prices[i][1]:.4f}, Heston Put Price: {heston_prices[i][2]:.4f}\")\n",
        "    print(\"Merton Model:\")\n",
        "    for j, lamb in enumerate(lambdas):\n",
        "        print(f\"  Lambda {lamb:.2f}: Call Price: {merton_prices[i][1][j][0]:.4f}, Put Price: {merton_prices[i][1][j][1]:.4f}\")\n",
        "    print(\"-\" * 50)\n"
      ]
    },
    {
      "cell_type": "markdown",
      "metadata": {
        "id": "xRXjX_3cuARB"
      },
      "source": [
        "#Step 2"
      ]
    },
    {
      "cell_type": "markdown",
      "metadata": {
        "id": "d_o4ze64ujBP"
      },
      "source": [
        "### Q.13 - Pricing American call options under Heston and Merton models"
      ]
    },
    {
      "cell_type": "code",
      "execution_count": null,
      "metadata": {
        "id": "uoVfeEFyuD82"
      },
      "outputs": [],
      "source": [
        "def American_call_price(S,K,r,T,t,M):\n",
        "    \"\"\"Calculate price of American call option (accounting for early exercise)\n",
        "    using Monte-Carlo simulation\n",
        "    INPUTS: S - simulated stock paths, K - strike price, r - risk-free rate,\n",
        "    T - time to maturity, t - time to calculate options prices at,\n",
        "    M - number of steps in MC simulation\n",
        "    OUTPUT: call_price - price of American call option\"\"\"\n",
        "    dt=T/M\n",
        "    payoff=np.maximum(S[-1,:]-K,0)\n",
        "    for i in range(M-2,-1,-1):\n",
        "        in_the_money=S[i,:]>K\n",
        "        if np.any(in_the_money):\n",
        "            future_payoff=np.exp(-r*dt)*payoff\n",
        "            X=S[i,:][in_the_money].reshape(-1,1)\n",
        "            Y=future_payoff[in_the_money]\n",
        "            reg=LinearRegression()\n",
        "            reg.fit(X,Y)\n",
        "            continuation_value=reg.predict(S[i,:].reshape(-1,1))\n",
        "            exercise_value=np.maximum(S[i,:]-K,0)\n",
        "            payoff=np.maximum(exercise_value,continuation_value)\n",
        "    call_price=np.exp(-r*(T-t))*np.mean(payoff)\n",
        "    return call_price"
      ]
    },
    {
      "cell_type": "code",
      "execution_count": null,
      "metadata": {
        "colab": {
          "base_uri": "https://localhost:8080/"
        },
        "id": "m1C1ksnUvBUH",
        "outputId": "1f59780d-a365-4869-8938-5f5d023c7238"
      },
      "outputs": [
        {
          "output_type": "stream",
          "name": "stdout",
          "text": [
            "American call option price under Heston model with -0.30 correlation is: $11.36\n"
          ]
        }
      ],
      "source": [
        "def Merton_paths(S0,r,sigma,lamb,mu,delta,T,M,Ite):\n",
        "    \"\"\"Simulate stock paths under the Merton (1976) model\n",
        "    INPUTS: S0 - initial stock price, r - risk-free rate,\n",
        "    lamb - intensity of Poisson jump process,\n",
        "    mu - average jump size, delta - standard deviation of jump process,\n",
        "    T - time to maturity, M - number of steps in MC,\n",
        "    Ite - number of iterations in MC\n",
        "    OUTPUT: S - simulated stock paths under the Merton model\"\"\"\n",
        "    dt=T/M\n",
        "    #Correction to drift term to maintain risk-neutral measure\n",
        "    rj=lamb*(np.exp(mu+0.5*delta**2)-1)\n",
        "    np.random.seed(0)\n",
        "    z1=np.random.standard_normal((M,Ite))\n",
        "    z2=np.random.standard_normal((M,Ite))\n",
        "    y=np.random.poisson(lamb*dt,(M,Ite))\n",
        "    S=np.zeros((M+1,Ite))\n",
        "    S[0]=S0\n",
        "    S[1:]=S0*np.cumprod(np.exp((r-rj-0.5*sigma**2)*dt+sigma*np.sqrt(dt)*z1)\n",
        "                        +y*(np.exp(mu+delta*z2)-1),\n",
        "                        axis=0)\n",
        "    S=np.maximum(S,0.00001)\n",
        "    return S\n",
        "#Amercian call option price under Heston model with rho=-0.30\n",
        "american_call_heston=np.round(American_call_price(S_heston1,K,r,T,t,M),2)\n",
        "print(f\"American call option price under Heston model with -0.30 correlation is: ${american_call_heston}\")"
      ]
    },
    {
      "cell_type": "code",
      "execution_count": null,
      "metadata": {
        "colab": {
          "base_uri": "https://localhost:8080/"
        },
        "id": "CbBoKiu0vELg",
        "outputId": "dd556b97-e2fc-4db8-d429-1f0bc2a7e205"
      },
      "outputs": [
        {
          "output_type": "stream",
          "name": "stdout",
          "text": [
            "American call option price under Merton model with jump intensity 0.75 is: $14.4\n",
            "European call option price under Merton model with jump intensity 0.75 is: $15.12\n"
          ]
        }
      ],
      "source": [
        "#Parameters for Merton model\n",
        "mu=-0.5\n",
        "delta=0.22\n",
        "lamb=0.75\n",
        "#Simulate stock paths under Merton model\n",
        "S_merton=Merton_paths(S0,r,sigma,lamb,mu,delta,T,M,Ite)\n",
        "#Amercian call option price under Merton model\n",
        "american_call_merton=np.round(American_call_price(S_merton,K,r,T,t,M),2)\n",
        "print(f\"American call option price under Merton model with jump intensity 0.75 is: ${american_call_merton}\")\n",
        "#For comparison, calculate price of vanilla European call option under Merton model\n",
        "european_call_merton=np.round(European_price(S_merton,K,r,T,t,option_type='call'),2)\n",
        "print(f\"European call option price under Merton model with jump intensity 0.75 is: ${european_call_merton}\")"
      ]
    },
    {
      "cell_type": "markdown",
      "metadata": {
        "id": "0N-aJ8bu_xzq"
      },
      "source": [
        "Q13. Repeat Questions 8 for the case of an American call option, using Merton Jump Diffusion."
      ]
    },
    {
      "cell_type": "code",
      "execution_count": null,
      "metadata": {
        "id": "s5ruI8mM_9JS",
        "colab": {
          "base_uri": "https://localhost:8080/"
        },
        "outputId": "bd38e509-aab6-4838-e337-a610dacb2ec9"
      },
      "outputs": [
        {
          "output_type": "stream",
          "name": "stdout",
          "text": [
            "American Call option price is: 27.26589884598237\n"
          ]
        }
      ],
      "source": [
        "import numpy as np\n",
        "\n",
        "# Parameters\n",
        "S0 = 80  # Initial stock price\n",
        "K = 80   # Strike price (ATM)\n",
        "r = 0.055  # Risk-free rate\n",
        "sigma = 0.35  # Volatility of diffusion component\n",
        "T = 0.25  # Time to maturity in years (3 months)\n",
        "lambda_jump = 0.75  # Jump intensity\n",
        "mu_jump = -0.5  # Mean jump size (logarithmic)\n",
        "delta_jump = 0.22  # Jump size standard deviation\n",
        "\n",
        "# Monte Carlo parameters\n",
        "N_sim = 700000  # Number of simulations\n",
        "N_steps = 50  # Time steps\n",
        "dt = T / N_steps  # Time step size\n",
        "\n",
        "# Derived parameters\n",
        "r_j = lambda_jump * (np.exp(mu_jump + 0.5 * delta_jump**2) - 1)  # Drift correction\n",
        "\n",
        "# Seed for reproducibility\n",
        "np.random.seed(42)\n",
        "\n",
        "# Pre-compute constants for efficiency\n",
        "drift = (r - r_j - 0.5 * sigma**2) * dt\n",
        "diffusion = sigma * np.sqrt(dt)\n",
        "\n",
        "# Simulate stock paths\n",
        "S_paths = np.zeros((N_sim, N_steps + 1))\n",
        "S_paths[:, 0] = S0\n",
        "\n",
        "for t in range(1, N_steps + 1):\n",
        "    z1 = np.random.normal(0, 1, N_sim)  # Standard normal for diffusion\n",
        "    y = np.random.poisson(lambda_jump * dt, N_sim)  # Poisson random variable for jumps\n",
        "    z2 = np.random.normal(0, 1, N_sim)  # Standard normal for jump sizes\n",
        "\n",
        "    jump_component = np.exp(mu_jump + delta_jump * z2) - 1\n",
        "    S_paths[:, t] = S_paths[:, t - 1] * np.exp(drift + diffusion * z1) * (1 + jump_component)**y\n",
        "\n",
        "# Payoff at maturity\n",
        "call_payoff = np.maximum(S_paths[:, -1] - K, 0)\n",
        "put_payoff = np.maximum(K - S_paths[:, -1], 0)\n",
        "\n",
        "# Discounted payoffs for European options (baseline)\n",
        "C_European = np.exp(-r * T) * np.mean(call_payoff)\n",
        "P_European = np.exp(-r * T) * np.mean(put_payoff)\n",
        "\n",
        "# American options using Least Squares Monte Carlo (LSM)\n",
        "call_option_values = np.copy(call_payoff)\n",
        "put_option_values = np.copy(put_payoff)\n",
        "\n",
        "# Work backward through time steps for early exercise\n",
        "for t in range(N_steps - 1, 0, -1):\n",
        "    # In-the-money paths\n",
        "    call_ITM = S_paths[:, t] > K\n",
        "    put_ITM = S_paths[:, t] < K\n",
        "\n",
        "    # Regression for continuation value\n",
        "    if np.any(call_ITM):\n",
        "        X_call = S_paths[call_ITM, t]\n",
        "        Y_call = np.exp(-r * dt) * call_option_values[call_ITM]\n",
        "        continuation_call = np.polyfit(X_call, Y_call, 2)\n",
        "        expected_call = np.polyval(continuation_call, X_call)\n",
        "        call_option_values[call_ITM] = np.maximum(call_payoff[call_ITM], expected_call)\n",
        "\n",
        "    if np.any(put_ITM):\n",
        "        X_put = S_paths[put_ITM, t]\n",
        "        Y_put = np.exp(-r * dt) * put_option_values[put_ITM]\n",
        "        continuation_put = np.polyfit(X_put, Y_put, 2)\n",
        "        expected_put = np.polyval(continuation_put, X_put)\n",
        "        put_option_values[put_ITM] = np.maximum(put_payoff[put_ITM], expected_put)\n",
        "\n",
        "# Discounted American option values\n",
        "C_American = np.exp(-r * dt) * np.mean(call_option_values)\n",
        "P_American = np.exp(-r * dt) * np.mean(put_option_values)\n",
        "print (\"American Call option price is:\",C_American)\n"
      ]
    },
    {
      "cell_type": "markdown",
      "metadata": {
        "id": "33UUPyk6AAGR"
      },
      "source": [
        "Parity check"
      ]
    },
    {
      "cell_type": "code",
      "execution_count": null,
      "metadata": {
        "id": "mvt791RdABDG",
        "colab": {
          "base_uri": "https://localhost:8080/"
        },
        "outputId": "1ce032ca-b47e-450a-dbbd-f28ffab706a2"
      },
      "outputs": [
        {
          "output_type": "stream",
          "name": "stdout",
          "text": [
            "Put-Call Parity Difference: -0.001326668287337185\n",
            "Put-call parity holds within the tolerance.\n"
          ]
        }
      ],
      "source": [
        "# Parameters\n",
        "discounted_strike = K * np.exp(-r * T)  # Discounted strike price\n",
        "\n",
        "# Check put-call parity\n",
        "parity_difference = (C_American - P_American) - (S0 - discounted_strike)\n",
        "\n",
        "# Output results\n",
        "print(\"Put-Call Parity Difference:\", parity_difference)\n",
        "if np.isclose(parity_difference, 0, atol=0.01):\n",
        "    print(\"Put-call parity holds within the tolerance.\")\n",
        "else:\n",
        "    print(\"Put-call parity does not hold.\")"
      ]
    },
    {
      "cell_type": "markdown",
      "metadata": {
        "id": "SmIVDYK-vGwj"
      },
      "source": [
        "### Q14 - Pricing European up-and-in-call option under Heston model with -0.70 correlation"
      ]
    },
    {
      "cell_type": "code",
      "execution_count": null,
      "metadata": {
        "colab": {
          "base_uri": "https://localhost:8080/"
        },
        "id": "EY1fQX6_vFNH",
        "outputId": "79fe3777-2473-4b6b-e198-457f7db3e054"
      },
      "outputs": [
        {
          "output_type": "stream",
          "name": "stdout",
          "text": [
            "European up-and-in-call option price under Heston model with -0.70 correlation is: $0.26\n"
          ]
        }
      ],
      "source": [
        "def uai_barrier_european_call(S,K,r,T,t,B):\n",
        "    \"\"\"Calculate price of up-and-in European call option using MC methods\n",
        "    INPUTS: S - simulated stock paths, K - strike price,\n",
        "    r - risk-free rate, T - time to maturity, t - time to calculate option price at,\n",
        "    B - Barrier level for the option\n",
        "    OUTPUT: Price of up-and-in barrier option\"\"\"\n",
        "    barrier_breached=(S>=B).any(axis=0)\n",
        "    payoff=np.where(barrier_breached,np.maximum(S[-1,:]-K,0),0)\n",
        "    average=np.mean(payoff)\n",
        "    return np.exp(-r*(T-t))*average\n",
        "barrier_uai_level=95 #Barrier of $95 for European up-and-in-call option\n",
        "strike_uai=95 #Strike price of $95 for European up-and-in-call option\n",
        "#All other parameters are the same as previously\n",
        "european_uai_heston=np.round(uai_barrier_european_call(S_heston2,strike_uai,r,T,t,barrier_uai_level),2)\n",
        "print(f\"European up-and-in-call option price under Heston model with -0.70 correlation is: ${european_uai_heston}\")"
      ]
    },
    {
      "cell_type": "markdown",
      "metadata": {
        "id": "0KOPmI1ivQ1D"
      },
      "source": [
        "### Q15 - Pricing European down-and-in put option under Merton model with jump intensity 0.75"
      ]
    },
    {
      "cell_type": "code",
      "execution_count": null,
      "metadata": {
        "colab": {
          "base_uri": "https://localhost:8080/"
        },
        "id": "m2MJ_gq5vMUX",
        "outputId": "70ab9cda-329d-46b9-bfaf-6b9739824916"
      },
      "outputs": [
        {
          "output_type": "stream",
          "name": "stdout",
          "text": [
            "European down-and-in put option price under Merton model with jump intensity 0.75 is: $2.92\n"
          ]
        }
      ],
      "source": [
        "def dai_barrier_european_put(S,K,r,T,t,B):\n",
        "    \"\"\"Calculate price of down-and-in European put option using MC methods\n",
        "    INPUTS: S - simulated stock paths, K - strike price,\n",
        "    r - risk-free rate, T - time to maturity, t - time to calculate option price at,\n",
        "    B - Barrier level for the option\n",
        "    OUTPUT: Price of down-and-in option\"\"\"\n",
        "    barrier_breached=(S<=B).any(axis=0)\n",
        "    payoff=np.where(barrier_breached,np.maximum(K-S[-1,:],0),0)\n",
        "    average=np.mean(payoff)\n",
        "    return np.exp(-r*(T-t))*average\n",
        "barrier_dai_level=65 #Barrier of $64 for European down-and-in put option\n",
        "strike_dai=65 #Strike price of $65 for European down-and-in put option\n",
        "european_dai_merton=np.round(dai_barrier_european_put(S_merton,strike_dai,r,T,t,barrier_dai_level),2)\n",
        "print(f\"European down-and-in put option price under Merton model with jump intensity 0.75 is: ${european_dai_merton}\")"
      ]
    }
  ],
  "metadata": {
    "colab": {
      "provenance": [],
      "toc_visible": true,
      "include_colab_link": true
    },
    "kernelspec": {
      "display_name": "Python 3",
      "name": "python3"
    },
    "language_info": {
      "name": "python"
    }
  },
  "nbformat": 4,
  "nbformat_minor": 0
}